{
 "cells": [
  {
   "cell_type": "markdown",
   "metadata": {},
   "source": [
    "# Exercise 4: Biostatistical analysis"
   ]
  },
  {
   "cell_type": "markdown",
   "metadata": {},
   "source": [
    "Our previous survival analyses highlighted that the drugB could have a limited effect on several subgroups of the population (ex1). Therefore, clinicians have asked us to dig further the analysis on this medication and try to quantify its effect on death event, along with other clinical and biological features. To that end, we will implement Multiple Linear Regression models, which allow to \"explain\" an event (e.g death) by a pre-defined set of quantitative and qualitative features."
   ]
  },
  {
   "cell_type": "markdown",
   "metadata": {},
   "source": [
    "A restricted view of the database has been constructed to remove information about the patients prescribed with drugA, so that we can focus on drugB vs control population.\n",
    "Let's assume for this exercise that this view has also been cleaned up by a previous pre-processing work (cf ex 1,2,3). We will focus on merging the different tables available into one that we will use to perform our statistical analyses."
   ]
  },
  {
   "cell_type": "markdown",
   "metadata": {},
   "source": [
    "The following libraries are required to go through this notebook:"
   ]
  },
  {
   "cell_type": "code",
   "execution_count": 2,
   "metadata": {},
   "outputs": [],
   "source": [
    "import pandas as pd\n",
    "import numpy as np\n",
    "\n",
    "# For descriptive statistics\n",
    "from scipy.stats import ttest_ind, chi2_contingency\n",
    "\n",
    "# For Logistic Models implementation\n",
    "from statsmodels.formula.api import logit, glm"
   ]
  },
  {
   "cell_type": "markdown",
   "metadata": {},
   "source": [
    "# Table of content"
   ]
  },
  {
   "cell_type": "markdown",
   "metadata": {},
   "source": [
    "1. [Preprocessing](#preprocessing)  \n",
    "    1.1 [Age](#age)  \n",
    "    1.2 [Gender](#gender)  \n",
    "    1.3 [Death](#death)  \n",
    "    1.4 [Comorbidities](#comorb)  \n",
    "    1.5 [Biological values](#bio)  \n",
    "    1.6 [Medication data](#med)\n",
    "2. [Descriptive statistics](#stat)  \n",
    "3. [Statistical analysis](#analysis)  \n",
    "    3.1 [Univariate analaysis](#uni_analysis)  \n",
    "    3.2 [Generalized Linear Model](#multi_analysis)  \n",
    "4. [Takeaways](#takeaways)\n"
   ]
  },
  {
   "cell_type": "markdown",
   "metadata": {},
   "source": [
    "<a id=\"preprocessing\"></a>\n",
    "# 1. Preprocessing"
   ]
  },
  {
   "cell_type": "markdown",
   "metadata": {},
   "source": [
    "The main objective of this step is to prepare a ready-to-use table for the subsequent statistical analyses. We want to summarize the demographic, clinical and biological information for each patient of the cohort."
   ]
  },
  {
   "cell_type": "markdown",
   "metadata": {},
   "source": [
    "Hence, the output DataFrame will include one row by patient, having the following columns:\n",
    "- age at the time of the visit (*int*)\n",
    "- male (*bool*)\n",
    "- death at the time of the study (*bool*). We assume that the study is realized long enough after the visits so that we can overlook censoring issues.\n",
    "- comorbidities : cancer antecedent and diabetes (*bool*)\n",
    "- biological profile at the time of admission (*float*). The following items were measured for each patient : bmi, urea, hemoglobin, crp.\n",
    "- drubB taken (*bool*)"
   ]
  },
  {
   "cell_type": "markdown",
   "metadata": {},
   "source": [
    "**NB: For the sake of simplicity, we assume that all the available tables have been pre-processed (deduplication, NLP enhancing , data cleaning, ...) and can be used as is. Moreover, we assume that each patient has one and only visit associated.**"
   ]
  },
  {
   "cell_type": "markdown",
   "metadata": {},
   "source": [
    "Open the following files using the `pandas.read_pickle()` function : \n",
    "  - *data/df_person.pkl* as `df_person`\n",
    "  - *data/df_visit.pkl* as `df_visit`\n",
    "  - *data/df_condition.pkl* as `df_cond`\n",
    "  - *data/df_med.pkl* as `df_med`\n",
    "  - *data/df_bio.pkl* as `df_bio.pkl`"
   ]
  },
  {
   "cell_type": "code",
   "execution_count": 3,
   "metadata": {},
   "outputs": [],
   "source": [
    "# Patients\n",
    "df_person = pd.read_pickle('data/df_person.pkl')\n",
    "# Visits\n",
    "df_visit = pd.read_pickle('data/df_visit.pkl')\n",
    "# Diagnosis (condition)\n",
    "df_condition = pd.read_pickle('data/df_condition.pkl')\n",
    "# Medication\n",
    "df_med = pd.read_pickle('data/df_med.pkl')\n",
    "# Biology\n",
    "df_bio = pd.read_pickle('data/df_bio.pkl')"
   ]
  },
  {
   "cell_type": "markdown",
   "metadata": {},
   "source": [
    "Create the base output dataset (format : `pandas.DataFrame` ; name : `data`)  from the `df_person` table, gathering patient id, gender, birth and death dates."
   ]
  },
  {
   "cell_type": "code",
   "execution_count": 4,
   "metadata": {},
   "outputs": [],
   "source": [
    "data = df_person[#TODO]"
   ]
  },
  {
   "cell_type": "markdown",
   "metadata": {},
   "source": [
    "Check the size of the dataframe using `dataframe.shape()`"
   ]
  },
  {
   "cell_type": "code",
   "execution_count": 5,
   "metadata": {},
   "outputs": [
    {
     "data": {
      "text/plain": [
       "(20000, 4)"
      ]
     },
     "execution_count": 5,
     "metadata": {},
     "output_type": "execute_result"
    }
   ],
   "source": [
    "data.shape"
   ]
  },
  {
   "cell_type": "markdown",
   "metadata": {},
   "source": [
    "<a id=\"age\"></a>\n",
    "## 1.1 Age"
   ]
  },
  {
   "cell_type": "markdown",
   "metadata": {},
   "source": [
    "Compute the patient age at the time of their hospitalization."
   ]
  },
  {
   "cell_type": "markdown",
   "metadata": {},
   "source": [
    "TIPS : \n",
    "- Inner join the `data` dataset and the `df_visit` dataset on `person_id` using the `pandas.merge()` function (see [doc](https://pandas.pydata.org/docs/reference/api/pandas.merge.html))\n",
    "- Create an `age` column compute the age for each patient."
   ]
  },
  {
   "cell_type": "code",
   "execution_count": 6,
   "metadata": {},
   "outputs": [],
   "source": [
    "data = pd.merge(data, #TODO, on=\"person_id\", how=\"inner\")"
   ]
  },
  {
   "cell_type": "code",
   "execution_count": 7,
   "metadata": {},
   "outputs": [],
   "source": [
    "data['age'] = #TODO"
   ]
  },
  {
   "cell_type": "markdown",
   "metadata": {},
   "source": [
    "<a id=\"gender\"></a>\n",
    "## 1.2 Gender"
   ]
  },
  {
   "cell_type": "markdown",
   "metadata": {},
   "source": [
    "Create a \"male\" boolean column to identify if the patient is a male (1) or a female (0)."
   ]
  },
  {
   "cell_type": "code",
   "execution_count": 8,
   "metadata": {},
   "outputs": [],
   "source": [
    "data[\"male\"] = #TODO"
   ]
  },
  {
   "cell_type": "markdown",
   "metadata": {},
   "source": [
    "<a id=\"death\"></a>\n",
    "## 1.3 Death"
   ]
  },
  {
   "cell_type": "markdown",
   "metadata": {},
   "source": [
    "Create a \"dead\" boolean column to identify if the patient has died or not.\n",
    "\n",
    "TIP : The patient is dead if a date of death is mention. Use the function `pandas.notna()`"
   ]
  },
  {
   "cell_type": "code",
   "execution_count": 9,
   "metadata": {},
   "outputs": [],
   "source": [
    "data[\"dead\"] = #TODO"
   ]
  },
  {
   "cell_type": "markdown",
   "metadata": {},
   "source": [
    "<a id=\"comorb\"></a>\n",
    "## 1.4 Comorbidities : cancer and diabetes antecedent"
   ]
  },
  {
   "cell_type": "markdown",
   "metadata": {},
   "source": [
    "Gathering with experts lead us to identify the ICD-10 codes corresponding to cancer antecedent and diabetes :\n",
    "- cancer antecedent : [\"Z851\", \"Z852\", \"Z853\"]\n",
    "- diabetes : [\"E10\", \"E11\", \"E12\"]"
   ]
  },
  {
   "cell_type": "markdown",
   "metadata": {},
   "source": [
    "Create a `comorbidity` column by tagging each code in the `df_cond` Dataframe corresponding to diabetes or cancer antecedent."
   ]
  },
  {
   "cell_type": "markdown",
   "metadata": {},
   "source": [
    "TIP: you can build a `code_to_comorb` dictionary mapping each ICD-10 code to its corresponding comorbidity, and use the pandas `df.col_name.map(dict)` built-function to map the values of the `condition_source_value` column."
   ]
  },
  {
   "cell_type": "code",
   "execution_count": 10,
   "metadata": {},
   "outputs": [],
   "source": [
    "comorb_to_code = {\n",
    "    \"diabetes\": #TODO,\n",
    "    \"atcd_cancer\": #TODO\n",
    "}"
   ]
  },
  {
   "cell_type": "code",
   "execution_count": 11,
   "metadata": {},
   "outputs": [],
   "source": [
    "code_to_comorb = {}\n",
    "for key,codes_list in comorb_to_code.items():\n",
    "    for code in codes_list:\n",
    "        code_to_comorb[code] = #TODO"
   ]
  },
  {
   "cell_type": "code",
   "execution_count": 12,
   "metadata": {},
   "outputs": [],
   "source": [
    "df_condition[\"comorbidity\"] = #TODO"
   ]
  },
  {
   "cell_type": "markdown",
   "metadata": {},
   "source": [
    "Create a `df_comorbidities` DataFrame by selecting the condition codes corresponding to the desired comorbidities."
   ]
  },
  {
   "cell_type": "markdown",
   "metadata": {},
   "source": [
    "TIP : \n",
    "You can use the `df.col_name.notna()` built-in function : \n",
    "```python \n",
    "df[df.col_name.notna()]\n",
    "```"
   ]
  },
  {
   "cell_type": "code",
   "execution_count": 13,
   "metadata": {},
   "outputs": [],
   "source": [
    "df_comorbidities = #TODO"
   ]
  },
  {
   "cell_type": "markdown",
   "metadata": {},
   "source": [
    "How many patient have cancer antecedent ? How many have had diabetes ?\n",
    "\n",
    "TIP : Use the `df.col_name.value_counts()` function"
   ]
  },
  {
   "cell_type": "code",
   "execution_count": 14,
   "metadata": {},
   "outputs": [
    {
     "data": {
      "text/plain": [
       "diabetes       3213\n",
       "atcd_cancer     664\n",
       "Name: comorbidity, dtype: int64"
      ]
     },
     "execution_count": 14,
     "metadata": {},
     "output_type": "execute_result"
    }
   ],
   "source": [
    "df_comorbidities.comorbidity.value_counts()"
   ]
  },
  {
   "cell_type": "markdown",
   "metadata": {},
   "source": [
    "The `df_comorbidities` DataFrame is composed of one row per condition source value (either cancer or diabete).\n",
    "<br> A patient can have multiple rows depending on how many conditions they have.\n",
    "\n",
    "Now, we will create a dataframe with one row per patient and per visit : \n",
    "<br>NB : each patient only has one and only visit\n",
    "\n",
    "| visit_occurrence_id | person_id  | atcd_cancer | diabetes |\n",
    "| :------------------ | :----------|:------------| :---------- |\n",
    "| aaa | xxx | True |  True |\n",
    "| bbb | yyy | False |  True |\n",
    "| ccc | zzz | False |  False |\n",
    "\n",
    "Pivot the `df_comorbidities` DataFrame to have the presence of both antecedents for each patient. Don't forget to replace the NaN values by False and to reset the index !"
   ]
  },
  {
   "cell_type": "markdown",
   "metadata": {},
   "source": [
    "TIP \n",
    "You can use the [pivot](https://pandas.pydata.org/docs/reference/api/pandas.DataFrame.pivot.html) built-in function :\n",
    "```python\n",
    "df.pivot(index=[\"index_col\"], columns=[\"col\"], values=[\"value\"]])\n",
    "```\n",
    "You might need to create \"artificially\" the *value* column as a True boolean, and drop the *condition_occurrence_id* column."
   ]
  },
  {
   "cell_type": "code",
   "execution_count": 15,
   "metadata": {},
   "outputs": [
    {
     "name": "stderr",
     "output_type": "stream",
     "text": [
      "c:\\Users\\Charline\\miniconda3\\envs\\eds-tuto\\lib\\site-packages\\ipykernel_launcher.py:1: SettingWithCopyWarning: \n",
      "A value is trying to be set on a copy of a slice from a DataFrame.\n",
      "Try using .loc[row_indexer,col_indexer] = value instead\n",
      "\n",
      "See the caveats in the documentation: https://pandas.pydata.org/pandas-docs/stable/user_guide/indexing.html#returning-a-view-versus-a-copy\n",
      "  \"\"\"Entry point for launching an IPython kernel.\n"
     ]
    }
   ],
   "source": [
    "df_comorbidities[\"value\"] = True"
   ]
  },
  {
   "cell_type": "code",
   "execution_count": 16,
   "metadata": {},
   "outputs": [],
   "source": [
    "df_comorbidities = df_comorbidities.drop(columns=[\"condition_occurrence_id\"]).pivot(index=#TODO, columns=#TODO, values=\"value\").reset_index().fillna(#TODO)"
   ]
  },
  {
   "cell_type": "markdown",
   "metadata": {},
   "source": [
    "Merge the `data` DataFrame with the obtained `df_comorbidities` to summarize comorbidities information for each patient.\n",
    "\n",
    "TIP:  \n",
    "- Think twice about the type of merging you want to perform\n",
    "- Do not forget to fill NA values for the comorbidity columns with False !"
   ]
  },
  {
   "cell_type": "code",
   "execution_count": 17,
   "metadata": {},
   "outputs": [],
   "source": [
    "data = pd.merge(data, df_comorbidities[[\"person_id\", \"atcd_cancer\", \"diabetes\"]], on=#TODO, how=#TODO).fillna(#TODO)"
   ]
  },
  {
   "cell_type": "markdown",
   "metadata": {},
   "source": [
    "<a id=\"bio\"></a>\n",
    "## 1.5 Biological profile"
   ]
  },
  {
   "cell_type": "markdown",
   "metadata": {},
   "source": [
    "Check the different biological values available."
   ]
  },
  {
   "cell_type": "code",
   "execution_count": 18,
   "metadata": {},
   "outputs": [
    {
     "data": {
      "text/plain": [
       "urea    20000\n",
       "bmi     20000\n",
       "hb      20000\n",
       "crp     20000\n",
       "Name: concept_source_value, dtype: int64"
      ]
     },
     "execution_count": 18,
     "metadata": {},
     "output_type": "execute_result"
    }
   ],
   "source": [
    "#TODO"
   ]
  },
  {
   "cell_type": "markdown",
   "metadata": {},
   "source": [
    "Create a `df_bio_processed` DataFrame with all biological values for each visit : \n",
    "\n",
    "| visit_occurrence_id | bio_A  | bio_B | bio_C |\n",
    "| :------------------ | :----------|:------------| :---------- |\n",
    "| aaa | 189 | 13 |  0.87 |\n",
    "| bbb | 160 | 11 |  0.59 |\n",
    "| ccc | 209 | 11 |  0.69 |\n",
    "\n",
    "\n",
    "TIP : Pivot the `df_bio` DataFrame and retrieve the biological values measured at the admission of each hospitalization."
   ]
  },
  {
   "cell_type": "code",
   "execution_count": 19,
   "metadata": {},
   "outputs": [],
   "source": [
    "bio_processed = df_bio[[\"visit_occurrence_id\", \"concept_source_value\", \"transformed_value\"]].pivot(index=#TODO, columns=#TODO, values=\"transformed_value\").reset_index()"
   ]
  },
  {
   "cell_type": "markdown",
   "metadata": {},
   "source": [
    "Merge `data` and `bio_processed` on `visit_occurrence_id`\n",
    "\n",
    "TIP: Think twice about the type of merging you want to perform"
   ]
  },
  {
   "cell_type": "code",
   "execution_count": 20,
   "metadata": {},
   "outputs": [],
   "source": [
    "data = #TODO"
   ]
  },
  {
   "cell_type": "markdown",
   "metadata": {},
   "source": [
    "<a id=\"med\"></a>\n",
    "## 1.6 Medication taken"
   ]
  },
  {
   "cell_type": "markdown",
   "metadata": {},
   "source": [
    "Create a \"drugB\" boolean column in `data` indicating whether patients have taken the drugB or not. "
   ]
  },
  {
   "cell_type": "markdown",
   "metadata": {},
   "source": [
    "TIP :\n",
    "You can pivot the `df_med` DataFrame into a `med_processed` dataframe as done for the comorbidities and merge it with `data`."
   ]
  },
  {
   "cell_type": "code",
   "execution_count": 21,
   "metadata": {},
   "outputs": [],
   "source": [
    "df_med[\"value\"]=True"
   ]
  },
  {
   "cell_type": "code",
   "execution_count": 22,
   "metadata": {},
   "outputs": [],
   "source": [
    "med_processed = df_med[[\"visit_occurrence_id\", \"drug_source_value\", \"value\"]].pivot(#TODO).reset_index().fillna(#TODO)"
   ]
  },
  {
   "cell_type": "code",
   "execution_count": 23,
   "metadata": {},
   "outputs": [],
   "source": [
    "data = #TODO"
   ]
  },
  {
   "cell_type": "markdown",
   "metadata": {},
   "source": [
    "### Final step"
   ]
  },
  {
   "cell_type": "markdown",
   "metadata": {},
   "source": [
    "Select the columns you want to keep for the statistical analyses and check that you don't have missing values."
   ]
  },
  {
   "cell_type": "markdown",
   "metadata": {},
   "source": [
    "TIP : you can use the following built-in function :\n",
    "```python\n",
    "df.isna().sum()\n",
    "```\n",
    "Beware of the axis along which you sum !"
   ]
  },
  {
   "cell_type": "code",
   "execution_count": 24,
   "metadata": {},
   "outputs": [],
   "source": [
    "data = data[[\"person_id\", \"age\", \"male\", \"dead\", \"atcd_cancer\", \"diabetes\", \"bmi\", \"crp\", \"urea\", \"hb\", \"drugB\"]]"
   ]
  },
  {
   "cell_type": "code",
   "execution_count": 25,
   "metadata": {},
   "outputs": [
    {
     "data": {
      "text/plain": [
       "person_id      0\n",
       "age            0\n",
       "male           0\n",
       "dead           0\n",
       "atcd_cancer    0\n",
       "diabetes       0\n",
       "bmi            0\n",
       "crp            0\n",
       "urea           0\n",
       "hb             0\n",
       "drugB          0\n",
       "dtype: int64"
      ]
     },
     "execution_count": 25,
     "metadata": {},
     "output_type": "execute_result"
    }
   ],
   "source": [
    "#TODO"
   ]
  },
  {
   "cell_type": "markdown",
   "metadata": {},
   "source": [
    "<a id=\"stat\"></a>\n",
    "# 2. Descriptive statistics"
   ]
  },
  {
   "cell_type": "markdown",
   "metadata": {},
   "source": [
    "Let's compute base statistics for our features in order to catch a glimpse of our population characteristics by separating dead vs alive patients. We will compute :\n",
    "- For quantitative features : mean (std) and student t-test\n",
    "- For qualitative features : % of prevalence and Chi-sq test\n",
    "\n",
    "*Assuming that we are respecting the initial conditions of each test (iid gaussian distribution for quanti feats).*"
   ]
  },
  {
   "cell_type": "markdown",
   "metadata": {},
   "source": [
    "We are going to use the `df.groupby().agg(agg_dict)` function. Check out the doc [here](https://pandas.pydata.org/pandas-docs/version/0.22/generated/pandas.core.groupby.DataFrameGroupBy.agg.html)  \n",
    "We will therefore need to provide for each column of `data` the desired aggregation function."
   ]
  },
  {
   "cell_type": "markdown",
   "metadata": {},
   "source": [
    "Create a \"prevalence\" function that returns the percentage of True values from a list of booleans."
   ]
  },
  {
   "cell_type": "code",
   "execution_count": 26,
   "metadata": {},
   "outputs": [],
   "source": [
    "def prevalence(values):\n",
    "    return #TODO"
   ]
  },
  {
   "cell_type": "markdown",
   "metadata": {},
   "source": [
    "Create the \"agg_dict\" dictionary storing for each column name (keys) the list of transforming functions (values). You can use the `np.mean` and `np.std` registered functions."
   ]
  },
  {
   "cell_type": "markdown",
   "metadata": {},
   "source": [
    "TIP : Example\n",
    "```python\n",
    "agg_dict = {\n",
    "    \"person_id\": [\"count\"],\n",
    "    \"age\": [np.mean, np.std],\n",
    "    ...\n",
    "}\n",
    "```"
   ]
  },
  {
   "cell_type": "code",
   "execution_count": 27,
   "metadata": {},
   "outputs": [],
   "source": [
    "agg_dict = {\n",
    "    \"person_id\": #TODO,\n",
    "    \"age\": #TODO,\n",
    "    \"male\": #TODO,\n",
    "    \"atcd_cancer\" : #TODO,\n",
    "    \"diabetes\" : #TODO,\n",
    "    \"drugB\": #TODO,\n",
    "    \"bmi\" : #TODO,\n",
    "    \"crp\": #TODO,\n",
    "    \"hb\": #TODO,\n",
    "    \"urea\": #TODO,\n",
    "}"
   ]
  },
  {
   "cell_type": "markdown",
   "metadata": {},
   "source": [
    "Create a summary DataFrame from `data` using the predefined `agg_dict` to compare base statistics between the living and the dead groups."
   ]
  },
  {
   "cell_type": "code",
   "execution_count": 28,
   "metadata": {},
   "outputs": [],
   "source": [
    "data_summary = round(data.groupby(#TODO).agg(#TODO).T,2)"
   ]
  },
  {
   "cell_type": "code",
   "execution_count": 29,
   "metadata": {},
   "outputs": [
    {
     "data": {
      "text/html": [
       "<div>\n",
       "<style scoped>\n",
       "    .dataframe tbody tr th:only-of-type {\n",
       "        vertical-align: middle;\n",
       "    }\n",
       "\n",
       "    .dataframe tbody tr th {\n",
       "        vertical-align: top;\n",
       "    }\n",
       "\n",
       "    .dataframe thead th {\n",
       "        text-align: right;\n",
       "    }\n",
       "</style>\n",
       "<table border=\"1\" class=\"dataframe\">\n",
       "  <thead>\n",
       "    <tr style=\"text-align: right;\">\n",
       "      <th></th>\n",
       "      <th>dead</th>\n",
       "      <th>False</th>\n",
       "      <th>True</th>\n",
       "    </tr>\n",
       "  </thead>\n",
       "  <tbody>\n",
       "    <tr>\n",
       "      <th>person_id</th>\n",
       "      <th>count</th>\n",
       "      <td>8930.00</td>\n",
       "      <td>11070.00</td>\n",
       "    </tr>\n",
       "    <tr>\n",
       "      <th rowspan=\"2\" valign=\"top\">age</th>\n",
       "      <th>mean</th>\n",
       "      <td>39.74</td>\n",
       "      <td>58.15</td>\n",
       "    </tr>\n",
       "    <tr>\n",
       "      <th>std</th>\n",
       "      <td>28.55</td>\n",
       "      <td>26.50</td>\n",
       "    </tr>\n",
       "    <tr>\n",
       "      <th>male</th>\n",
       "      <th>prevalence</th>\n",
       "      <td>49.81</td>\n",
       "      <td>50.15</td>\n",
       "    </tr>\n",
       "    <tr>\n",
       "      <th>atcd_cancer</th>\n",
       "      <th>prevalence</th>\n",
       "      <td>2.95</td>\n",
       "      <td>3.62</td>\n",
       "    </tr>\n",
       "    <tr>\n",
       "      <th>diabetes</th>\n",
       "      <th>prevalence</th>\n",
       "      <td>13.17</td>\n",
       "      <td>18.40</td>\n",
       "    </tr>\n",
       "    <tr>\n",
       "      <th>drugB</th>\n",
       "      <th>prevalence</th>\n",
       "      <td>68.57</td>\n",
       "      <td>44.96</td>\n",
       "    </tr>\n",
       "    <tr>\n",
       "      <th rowspan=\"2\" valign=\"top\">bmi</th>\n",
       "      <th>mean</th>\n",
       "      <td>22.22</td>\n",
       "      <td>22.96</td>\n",
       "    </tr>\n",
       "    <tr>\n",
       "      <th>std</th>\n",
       "      <td>3.83</td>\n",
       "      <td>3.27</td>\n",
       "    </tr>\n",
       "    <tr>\n",
       "      <th rowspan=\"2\" valign=\"top\">crp</th>\n",
       "      <th>mean</th>\n",
       "      <td>4.77</td>\n",
       "      <td>4.71</td>\n",
       "    </tr>\n",
       "    <tr>\n",
       "      <th>std</th>\n",
       "      <td>0.37</td>\n",
       "      <td>0.36</td>\n",
       "    </tr>\n",
       "    <tr>\n",
       "      <th rowspan=\"2\" valign=\"top\">hb</th>\n",
       "      <th>mean</th>\n",
       "      <td>13.24</td>\n",
       "      <td>13.47</td>\n",
       "    </tr>\n",
       "    <tr>\n",
       "      <th>std</th>\n",
       "      <td>1.62</td>\n",
       "      <td>1.59</td>\n",
       "    </tr>\n",
       "    <tr>\n",
       "      <th rowspan=\"2\" valign=\"top\">urea</th>\n",
       "      <th>mean</th>\n",
       "      <td>1.86</td>\n",
       "      <td>2.01</td>\n",
       "    </tr>\n",
       "    <tr>\n",
       "      <th>std</th>\n",
       "      <td>0.44</td>\n",
       "      <td>0.38</td>\n",
       "    </tr>\n",
       "  </tbody>\n",
       "</table>\n",
       "</div>"
      ],
      "text/plain": [
       "dead                      False     True \n",
       "person_id   count       8930.00  11070.00\n",
       "age         mean          39.74     58.15\n",
       "            std           28.55     26.50\n",
       "male        prevalence    49.81     50.15\n",
       "atcd_cancer prevalence     2.95      3.62\n",
       "diabetes    prevalence    13.17     18.40\n",
       "drugB       prevalence    68.57     44.96\n",
       "bmi         mean          22.22     22.96\n",
       "            std            3.83      3.27\n",
       "crp         mean           4.77      4.71\n",
       "            std            0.37      0.36\n",
       "hb          mean          13.24     13.47\n",
       "            std            1.62      1.59\n",
       "urea        mean           1.86      2.01\n",
       "            std            0.44      0.38"
      ]
     },
     "execution_count": 29,
     "metadata": {},
     "output_type": "execute_result"
    }
   ],
   "source": [
    "data_summary"
   ]
  },
  {
   "cell_type": "markdown",
   "metadata": {},
   "source": [
    "Compute statistical tests to assess the significancy of the resulting difference between the dead and the living groups.  \n",
    "For numerical values (age and bio), you can compute the p-values associated to Student t-tests (function `ttest_ind`, doc [here](https://docs.scipy.org/doc/scipy/reference/generated/scipy.stats.ttest_ind.html)), and for categorical values (gender, comorbidities and drug) chi-sq tests (function `chi2_contigency`, doc [here](https://docs.scipy.org/doc/scipy/reference/generated/scipy.stats.chi2_contingency.html))."
   ]
  },
  {
   "cell_type": "markdown",
   "metadata": {},
   "source": [
    "TIP : \n",
    "You may need to separate `data` into `data_alive` and `data_dead` in order to facilitate the statistic computation."
   ]
  },
  {
   "cell_type": "code",
   "execution_count": 30,
   "metadata": {},
   "outputs": [],
   "source": [
    "numerical = [\"age\", \"bmi\", \"crp\", \"hb\", \"urea\"]\n",
    "test_categorical = [\"male\", \"atcd_cancer\", \"diabetes\", \"drugB\"]"
   ]
  },
  {
   "cell_type": "code",
   "execution_count": 31,
   "metadata": {},
   "outputs": [],
   "source": [
    "data_alive = data.query(\"dead==False\")\n",
    "data_dead = data.query(\"dead==True\")"
   ]
  },
  {
   "cell_type": "code",
   "execution_count": 32,
   "metadata": {},
   "outputs": [],
   "source": [
    "for feat, sub_value in data_summary.index:\n",
    "    if sub_value == 'std':\n",
    "        continue\n",
    "    if feat in numerical:\n",
    "        data_summary.loc[(feat,sub_value),\"t-test\"] = round(ttest_ind(data_alive[feat], data_dead[feat])[1],4)\n",
    "\n",
    "    if feat in test_categorical:\n",
    "        data_summary.loc[(feat,sub_value),\"chi-sq\"] = round(chi2_contingency(pd.crosstab(data[\"dead\"], data[feat]))[1],4)\n"
   ]
  },
  {
   "cell_type": "code",
   "execution_count": 33,
   "metadata": {},
   "outputs": [
    {
     "data": {
      "text/html": [
       "<div>\n",
       "<style scoped>\n",
       "    .dataframe tbody tr th:only-of-type {\n",
       "        vertical-align: middle;\n",
       "    }\n",
       "\n",
       "    .dataframe tbody tr th {\n",
       "        vertical-align: top;\n",
       "    }\n",
       "\n",
       "    .dataframe thead th {\n",
       "        text-align: right;\n",
       "    }\n",
       "</style>\n",
       "<table border=\"1\" class=\"dataframe\">\n",
       "  <thead>\n",
       "    <tr style=\"text-align: right;\">\n",
       "      <th></th>\n",
       "      <th>dead</th>\n",
       "      <th>False</th>\n",
       "      <th>True</th>\n",
       "      <th>t-test</th>\n",
       "      <th>chi-sq</th>\n",
       "    </tr>\n",
       "  </thead>\n",
       "  <tbody>\n",
       "    <tr>\n",
       "      <th>person_id</th>\n",
       "      <th>count</th>\n",
       "      <td>8930.00</td>\n",
       "      <td>11070.00</td>\n",
       "      <td>NaN</td>\n",
       "      <td>NaN</td>\n",
       "    </tr>\n",
       "    <tr>\n",
       "      <th rowspan=\"2\" valign=\"top\">age</th>\n",
       "      <th>mean</th>\n",
       "      <td>39.74</td>\n",
       "      <td>58.15</td>\n",
       "      <td>0.0</td>\n",
       "      <td>NaN</td>\n",
       "    </tr>\n",
       "    <tr>\n",
       "      <th>std</th>\n",
       "      <td>28.55</td>\n",
       "      <td>26.50</td>\n",
       "      <td>NaN</td>\n",
       "      <td>NaN</td>\n",
       "    </tr>\n",
       "    <tr>\n",
       "      <th>male</th>\n",
       "      <th>prevalence</th>\n",
       "      <td>49.81</td>\n",
       "      <td>50.15</td>\n",
       "      <td>NaN</td>\n",
       "      <td>0.6388</td>\n",
       "    </tr>\n",
       "    <tr>\n",
       "      <th>atcd_cancer</th>\n",
       "      <th>prevalence</th>\n",
       "      <td>2.95</td>\n",
       "      <td>3.62</td>\n",
       "      <td>NaN</td>\n",
       "      <td>0.0088</td>\n",
       "    </tr>\n",
       "    <tr>\n",
       "      <th>diabetes</th>\n",
       "      <th>prevalence</th>\n",
       "      <td>13.17</td>\n",
       "      <td>18.40</td>\n",
       "      <td>NaN</td>\n",
       "      <td>0.0000</td>\n",
       "    </tr>\n",
       "    <tr>\n",
       "      <th>drugB</th>\n",
       "      <th>prevalence</th>\n",
       "      <td>68.57</td>\n",
       "      <td>44.96</td>\n",
       "      <td>NaN</td>\n",
       "      <td>0.0000</td>\n",
       "    </tr>\n",
       "    <tr>\n",
       "      <th rowspan=\"2\" valign=\"top\">bmi</th>\n",
       "      <th>mean</th>\n",
       "      <td>22.22</td>\n",
       "      <td>22.96</td>\n",
       "      <td>0.0</td>\n",
       "      <td>NaN</td>\n",
       "    </tr>\n",
       "    <tr>\n",
       "      <th>std</th>\n",
       "      <td>3.83</td>\n",
       "      <td>3.27</td>\n",
       "      <td>NaN</td>\n",
       "      <td>NaN</td>\n",
       "    </tr>\n",
       "    <tr>\n",
       "      <th rowspan=\"2\" valign=\"top\">crp</th>\n",
       "      <th>mean</th>\n",
       "      <td>4.77</td>\n",
       "      <td>4.71</td>\n",
       "      <td>0.0</td>\n",
       "      <td>NaN</td>\n",
       "    </tr>\n",
       "    <tr>\n",
       "      <th>std</th>\n",
       "      <td>0.37</td>\n",
       "      <td>0.36</td>\n",
       "      <td>NaN</td>\n",
       "      <td>NaN</td>\n",
       "    </tr>\n",
       "    <tr>\n",
       "      <th rowspan=\"2\" valign=\"top\">hb</th>\n",
       "      <th>mean</th>\n",
       "      <td>13.24</td>\n",
       "      <td>13.47</td>\n",
       "      <td>0.0</td>\n",
       "      <td>NaN</td>\n",
       "    </tr>\n",
       "    <tr>\n",
       "      <th>std</th>\n",
       "      <td>1.62</td>\n",
       "      <td>1.59</td>\n",
       "      <td>NaN</td>\n",
       "      <td>NaN</td>\n",
       "    </tr>\n",
       "    <tr>\n",
       "      <th rowspan=\"2\" valign=\"top\">urea</th>\n",
       "      <th>mean</th>\n",
       "      <td>1.86</td>\n",
       "      <td>2.01</td>\n",
       "      <td>0.0</td>\n",
       "      <td>NaN</td>\n",
       "    </tr>\n",
       "    <tr>\n",
       "      <th>std</th>\n",
       "      <td>0.44</td>\n",
       "      <td>0.38</td>\n",
       "      <td>NaN</td>\n",
       "      <td>NaN</td>\n",
       "    </tr>\n",
       "  </tbody>\n",
       "</table>\n",
       "</div>"
      ],
      "text/plain": [
       "dead                      False      True  t-test  chi-sq\n",
       "person_id   count       8930.00  11070.00     NaN     NaN\n",
       "age         mean          39.74     58.15     0.0     NaN\n",
       "            std           28.55     26.50     NaN     NaN\n",
       "male        prevalence    49.81     50.15     NaN  0.6388\n",
       "atcd_cancer prevalence     2.95      3.62     NaN  0.0088\n",
       "diabetes    prevalence    13.17     18.40     NaN  0.0000\n",
       "drugB       prevalence    68.57     44.96     NaN  0.0000\n",
       "bmi         mean          22.22     22.96     0.0     NaN\n",
       "            std            3.83      3.27     NaN     NaN\n",
       "crp         mean           4.77      4.71     0.0     NaN\n",
       "            std            0.37      0.36     NaN     NaN\n",
       "hb          mean          13.24     13.47     0.0     NaN\n",
       "            std            1.62      1.59     NaN     NaN\n",
       "urea        mean           1.86      2.01     0.0     NaN\n",
       "            std            0.44      0.38     NaN     NaN"
      ]
     },
     "execution_count": 33,
     "metadata": {},
     "output_type": "execute_result"
    }
   ],
   "source": [
    "data_summary"
   ]
  },
  {
   "cell_type": "markdown",
   "metadata": {},
   "source": [
    "What can you conclude ?"
   ]
  },
  {
   "cell_type": "markdown",
   "metadata": {},
   "source": [
    "Dead patients appear to be older, having diabetes more frequently and presenting a worse biological profile (especially regarding Urea) at admission.\n",
    "**However**, the statistical significancy must be confronted to the sample size. Indeed, with >20000 patients, the statistical tests are de facto significant, and those p-values are \"artificially\" low."
   ]
  },
  {
   "cell_type": "markdown",
   "metadata": {},
   "source": [
    "<a id=\"analysis\"></a>\n",
    "# 3. Statistical analysis"
   ]
  },
  {
   "cell_type": "markdown",
   "metadata": {},
   "source": [
    "Now that we have a better overview of our cohort and its characteristics, we can perform the desired statistical analysis by fitting logistic regression models."
   ]
  },
  {
   "cell_type": "markdown",
   "metadata": {},
   "source": [
    "Convert binary features into integer, as boolean are not supported by the statsmodels functions."
   ]
  },
  {
   "cell_type": "code",
   "execution_count": 34,
   "metadata": {},
   "outputs": [],
   "source": [
    "categorical = [\"dead\",\"male\", \"atcd_cancer\", \"diabetes\", \"drugB\"]\n",
    "data[categorical] = data[categorical].astype(int)"
   ]
  },
  {
   "cell_type": "markdown",
   "metadata": {},
   "source": [
    "<a id=\"uni_analysis\"></a>\n",
    "## 3.2 Univariate logistical regression : OR associated with taking drugB"
   ]
  },
  {
   "cell_type": "markdown",
   "metadata": {},
   "source": [
    "Build a logistical regression model to evaluate the univariate effect of taking drug B on death, and fit it on `data`. Documentation about the `logit` function can be found [here](https://www.statsmodels.org/devel/generated/statsmodels.formula.api.logit.html)."
   ]
  },
  {
   "cell_type": "code",
   "execution_count": 35,
   "metadata": {},
   "outputs": [
    {
     "name": "stdout",
     "output_type": "stream",
     "text": [
      "                           Logit Regression Results                           \n",
      "==============================================================================\n",
      "Dep. Variable:                   dead   No. Observations:                20000\n",
      "Model:                          Logit   Df Residuals:                    19998\n",
      "Method:                           MLE   Df Model:                            1\n",
      "Date:                Wed, 08 Jun 2022   Pseudo R-squ.:                 0.04115\n",
      "Time:                        17:47:17   Log-Likelihood:                -13182.\n",
      "converged:                       True   LL-Null:                       -13748.\n",
      "Covariance Type:            nonrobust   LLR p-value:                4.631e-248\n",
      "==============================================================================\n",
      "                 coef    std err          z      P>|z|      [0.025      0.975]\n",
      "------------------------------------------------------------------------------\n",
      "Intercept      0.7750      0.023     33.975      0.000       0.730       0.820\n",
      "drugB         -0.9822      0.030    -33.025      0.000      -1.041      -0.924\n",
      "==============================================================================\n"
     ]
    }
   ],
   "source": [
    "model = logit(#TODO).fit(disp=False)\n",
    "print(model.summary())"
   ]
  },
  {
   "cell_type": "markdown",
   "metadata": {},
   "source": [
    "Extract the coefficient associated with drugB using `model.params[param_name]`"
   ]
  },
  {
   "cell_type": "code",
   "execution_count": 36,
   "metadata": {},
   "outputs": [
    {
     "data": {
      "text/plain": [
       "-0.9822491465060246"
      ]
     },
     "execution_count": 36,
     "metadata": {},
     "output_type": "execute_result"
    }
   ],
   "source": [
    "#TODO"
   ]
  },
  {
   "cell_type": "markdown",
   "metadata": {},
   "source": [
    "Compute the Odds Ratio associated with the drugB feature."
   ]
  },
  {
   "cell_type": "markdown",
   "metadata": {},
   "source": [
    "TIP :\n",
    "OR = exp(feature_coef)"
   ]
  },
  {
   "cell_type": "code",
   "execution_count": 37,
   "metadata": {},
   "outputs": [],
   "source": [
    "or_uni = #TODO"
   ]
  },
  {
   "cell_type": "markdown",
   "metadata": {},
   "source": [
    "What can you conclude of the risk of death when taking drugB ?"
   ]
  },
  {
   "cell_type": "code",
   "execution_count": 38,
   "metadata": {},
   "outputs": [
    {
     "name": "stdout",
     "output_type": "stream",
     "text": [
      "According to our univariate analysis, the risk of dying appears to be multiplied by 0.37, or reduced by 2.67 when taking drug B.\n"
     ]
    }
   ],
   "source": [
    "print(f\"According to our univariate analysis, the risk of dying appears to be multiplied by {#TODO}, or reduced by {#TODO} when taking drug B.\")"
   ]
  },
  {
   "cell_type": "markdown",
   "metadata": {},
   "source": [
    "Perform the same univariate analysis on the other features relating to death event."
   ]
  },
  {
   "cell_type": "code",
   "execution_count": 39,
   "metadata": {},
   "outputs": [
    {
     "name": "stdout",
     "output_type": "stream",
     "text": [
      "Univariate OR associated with age: 1.02\n",
      "Univariate OR associated with male: 1.01\n",
      "Univariate OR associated with atcd_cancer: 1.24\n",
      "Univariate OR associated with diabetes: 1.49\n",
      "Univariate OR associated with urea: 2.51\n",
      "Univariate OR associated with crp: 0.64\n",
      "Univariate OR associated with bmi: 1.06\n",
      "Univariate OR associated with hb: 1.09\n"
     ]
    }
   ],
   "source": [
    "for feat in [\"age\", \"male\", \"atcd_cancer\", \"diabetes\", \"urea\", \"crp\", \"bmi\", \"hb\"]:\n",
    "    model = logit(f\"dead ~  {#TODO}\", #TODO).fit(disp=False)\n",
    "    print(f\"Univariate OR associated with {feat}: {#TODO}\")\n"
   ]
  },
  {
   "cell_type": "markdown",
   "metadata": {},
   "source": [
    "What parameters seem to have the greatest influence on the death event ?"
   ]
  },
  {
   "cell_type": "markdown",
   "metadata": {},
   "source": [
    "The most influent parameters on death are the following :\n",
    "#TODO"
   ]
  },
  {
   "cell_type": "markdown",
   "metadata": {},
   "source": [
    "<a id=\"multi_analysis\"></a>\n",
    "## 3.3 Multivariate analysis : Generalized Linear Models"
   ]
  },
  {
   "cell_type": "markdown",
   "metadata": {},
   "source": [
    "Build a Generalized Linear Model to explain the death event with all the available features. Documentation about the `glm` function can be found [here](https://www.statsmodels.org/devel/generated/statsmodels.formula.api.glm.html)."
   ]
  },
  {
   "cell_type": "code",
   "execution_count": 40,
   "metadata": {},
   "outputs": [
    {
     "name": "stdout",
     "output_type": "stream",
     "text": [
      "                 Generalized Linear Model Regression Results                  \n",
      "==============================================================================\n",
      "Dep. Variable:                   dead   No. Observations:                20000\n",
      "Model:                            GLM   Df Residuals:                    19990\n",
      "Model Family:                Gaussian   Df Model:                            9\n",
      "Link Function:               identity   Scale:                         0.21239\n",
      "Method:                          IRLS   Log-Likelihood:                -12880.\n",
      "Date:                Wed, 08 Jun 2022   Deviance:                       4245.6\n",
      "Time:                        17:47:18   Pearson chi2:                 4.25e+03\n",
      "No. Iterations:                     3   Pseudo R-squ. (CS):             0.1514\n",
      "Covariance Type:            nonrobust                                         \n",
      "===============================================================================\n",
      "                  coef    std err          z      P>|z|      [0.025      0.975]\n",
      "-------------------------------------------------------------------------------\n",
      "Intercept       0.0522      0.059      0.885      0.376      -0.063       0.168\n",
      "age             0.0042      0.000     28.976      0.000       0.004       0.004\n",
      "male           -0.0165      0.007     -2.371      0.018      -0.030      -0.003\n",
      "atcd_cancer    -0.0020      0.018     -0.110      0.912      -0.038       0.034\n",
      "diabetes        0.0168      0.009      1.775      0.076      -0.002       0.035\n",
      "drugB          -0.2205      0.008    -26.339      0.000      -0.237      -0.204\n",
      "bmi             0.0077      0.001      7.261      0.000       0.006       0.010\n",
      "crp             0.0227      0.011      2.086      0.037       0.001       0.044\n",
      "hb              0.0049      0.002      2.325      0.020       0.001       0.009\n",
      "urea            0.0373      0.009      4.103      0.000       0.019       0.055\n",
      "===============================================================================\n"
     ]
    }
   ],
   "source": [
    "model = glm(#TODO).fit()\n",
    "print(model.summary())"
   ]
  },
  {
   "cell_type": "markdown",
   "metadata": {},
   "source": [
    "Compute the stratified OR associated with taking drugB :"
   ]
  },
  {
   "cell_type": "code",
   "execution_count": 41,
   "metadata": {},
   "outputs": [],
   "source": [
    "or_multi = #TODO"
   ]
  },
  {
   "cell_type": "markdown",
   "metadata": {},
   "source": [
    "Compute the OR associated with each feature after adjustement."
   ]
  },
  {
   "cell_type": "code",
   "execution_count": 42,
   "metadata": {},
   "outputs": [
    {
     "name": "stdout",
     "output_type": "stream",
     "text": [
      "Intercept 1.05\n",
      "age 1.0\n",
      "male 0.98\n",
      "atcd_cancer 1.0\n",
      "diabetes 1.02\n",
      "drugB 0.8\n",
      "bmi 1.01\n",
      "crp 1.02\n",
      "hb 1.0\n",
      "urea 1.04\n"
     ]
    }
   ],
   "source": [
    "for feat, param in model.params.to_dict().items():\n",
    "    print(feat, #TODO)"
   ]
  },
  {
   "cell_type": "markdown",
   "metadata": {},
   "source": [
    "What can you conclude ?"
   ]
  },
  {
   "cell_type": "code",
   "execution_count": 43,
   "metadata": {},
   "outputs": [
    {
     "name": "stdout",
     "output_type": "stream",
     "text": [
      "After a stratification on other features, the risk of dying appears to be reduced by  1.25 when taking drug B.\n"
     ]
    }
   ],
   "source": [
    "print(f\"After a stratification on other features, the risk of dying appears to be reduced by  {#TODO} when taking drug B.\")"
   ]
  },
  {
   "cell_type": "markdown",
   "metadata": {},
   "source": [
    "The most impactful features on the adjusted model is:\n",
    "- #TODO"
   ]
  },
  {
   "cell_type": "markdown",
   "metadata": {},
   "source": [
    "**CONCLUSION**\n",
    "The effect of drug B adjusted on all available features is reduced, illustrating the fact that this medication was more frequently prescribed to younger people in better global health (less comorbidities and better biological features). \n",
    "Moreover, the effect of the other features (urea, comorbidities, etc..) vanishes when adjusting on drugB.  \n",
    "This is a typical clinical bias that can be found frequently in Real-World Data and may lead to over-interpretation of drug effects.. do not conclude to quickly !"
   ]
  },
  {
   "cell_type": "markdown",
   "metadata": {},
   "source": [
    "# 4. Takeaways"
   ]
  },
  {
   "cell_type": "markdown",
   "metadata": {},
   "source": [
    "Large scale Real-World Data may be subject to major clinical biases, such as prescription bias. They can affect the overall population, or be subject to differing guidelines and practices among the diversity of hospitals, clinicians and patients. \n",
    "It is of paramount importance to work closely with clinician to be aware of such biases and avoid over-interpretation, as long as performing stratified analyses to have a broader view of the effects."
   ]
  }
 ],
 "metadata": {
  "interpreter": {
   "hash": "2ffb0fb47ea8f733c001ba519ad88900dd17f4bfc9ebfd0d356a457e5cc19a15"
  },
  "kernelspec": {
   "display_name": "Python 3.7.11 ('eds-tuto')",
   "language": "python",
   "name": "python3"
  },
  "language_info": {
   "codemirror_mode": {
    "name": "ipython",
    "version": 3
   },
   "file_extension": ".py",
   "mimetype": "text/x-python",
   "name": "python",
   "nbconvert_exporter": "python",
   "pygments_lexer": "ipython3",
   "version": "3.7.11"
  },
  "orig_nbformat": 4
 },
 "nbformat": 4,
 "nbformat_minor": 2
}

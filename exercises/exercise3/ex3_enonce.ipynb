{
 "cells": [
  {
   "cell_type": "markdown",
   "metadata": {},
   "source": [
    "# Exercise 3: Clinical notes and natural language processing\n",
    "\n",
    "\n",
    "In this exercice we introduce an important new category of data: **clinical notes**.\n",
    "<br>We provide a scientific library called **eds-nlp** (see [doc](https://aphp.github.io/edsnlp)) that has been developed to facilitate the definition of rule-based NLP algorithms on French clinical texts.\n",
    "\n",
    "Here, we want to validate the drug table. \n",
    "<br>In fact, we think that the drug table is not complete. Therefore, some patients might be identified in the control cohort but have had a drug administred. \n",
    "<br>It is well known that the medical staff writes all the needed information in the notes. We suppose that the note table is complete. \n",
    "<br>The idea is to use NLP to extract the drugs taken by patients. \n",
    "\n",
    "In this exercice, we will : \n",
    "1. Find drug administration for patients using NLP methods\n",
    "2. Compare the Kaplan Meyer curves between populations depending if NLP was used to identify drugs.\n",
    "\n",
    "We initialize the notebook by importing the following libraries:"
   ]
  },
  {
   "cell_type": "code",
   "execution_count": 2,
   "metadata": {},
   "outputs": [],
   "source": [
    "import pandas as pd\n",
    "import numpy as np\n",
    "\n",
    "# Visualization library\n",
    "import altair as alt\n",
    "alt.data_transformers.enable('default', max_rows=None)\n",
    "\n",
    "# Dates management\n",
    "import datetime\n",
    "\n",
    "# For the computation of Kaplan-Meier estimates and log-rank tests\n",
    "import lifelines"
   ]
  },
  {
   "cell_type": "markdown",
   "metadata": {},
   "source": [
    " # Table of content"
   ]
  },
  {
   "cell_type": "markdown",
   "metadata": {},
   "source": [
    "# 1. Data Exploration\n",
    "\n",
    "A fake dataset that mimics data coming from a clinical information system is made available in the */data* folder of this exercise.\n",
    "<br>For this study, data has been extracted from the Clinical Data Warehouse on December 1st, 2025.\n",
    "<br>The same data than in exercice 1 is imported\n",
    "\n",
    "## 1.1 Data extracted from the Clinical Data Warehouse\n",
    "\n",
    "Open the following files using the `pandas.read_pickle()` function : \n",
    "  - *data/df_person.pkl* as `df_person`\n",
    "  - *data/df_visit.pkl* as `df_visit`\n",
    "  - *data/df_condition.pkl* as `df_cond`\n",
    "  - *data/df_med.pkl* as `df_med`"
   ]
  },
  {
   "cell_type": "code",
   "execution_count": 3,
   "metadata": {},
   "outputs": [],
   "source": [
    "# Patients\n",
    "df_person = pd.read_pickle('data/df_person.pkl')\n",
    "# Visits\n",
    "df_visit = pd.read_pickle('data/df_visit.pkl')\n",
    "# Diagnosis (condition)\n",
    "df_cond = pd.read_pickle('data/df_condition.pkl')\n",
    "# Medication\n",
    "df_med = pd.read_pickle('data/df_med.pkl')"
   ]
  },
  {
   "cell_type": "markdown",
   "metadata": {},
   "source": [
    "Create a dataframe `df_visit_med` that indicates which drug was administered for each visit. \n",
    "\n",
    "TIP : LEFT JOIN `df_visit` and `df_med` on `visit_occurrence_id` using the `pandas.merge()` function (see [doc](https://pandas.pydata.org/docs/reference/api/pandas.merge.html))"
   ]
  },
  {
   "cell_type": "code",
   "execution_count": 4,
   "metadata": {},
   "outputs": [],
   "source": [
    "df_visit_med = #TODO"
   ]
  },
  {
   "cell_type": "markdown",
   "metadata": {},
   "source": [
    "How many patients are in the study?\n",
    "<br>We suppose deduplication has already been done."
   ]
  },
  {
   "cell_type": "code",
   "execution_count": 5,
   "metadata": {},
   "outputs": [
    {
     "name": "stdout",
     "output_type": "stream",
     "text": [
      "We have 60000 unique patient ids in this dataset.\n"
     ]
    }
   ],
   "source": [
    "print(f\"We have {#TODO} unique patient ids in this dataset.\")"
   ]
  },
  {
   "cell_type": "markdown",
   "metadata": {},
   "source": [
    "Make sure every patient only has one visit and therefore one drug administration\n",
    "\n",
    "TIPS : Count the number of patients in the dataset `df_visit_med` using `pandas.value_counts()` and check there is only one occurence of every patient."
   ]
  },
  {
   "cell_type": "code",
   "execution_count": 6,
   "metadata": {},
   "outputs": [
    {
     "name": "stdout",
     "output_type": "stream",
     "text": [
      "We see that every patient only has one visit and therefore one drug administration\n"
     ]
    }
   ],
   "source": [
    "#TODO"
   ]
  },
  {
   "cell_type": "markdown",
   "metadata": {},
   "source": [
    "How many patients have had the drug : \n",
    "- drugA  administered ?\n",
    "- drugB administered ?\n",
    "\n",
    "TIP : Count the number of drugA and drugB administered in the dataset `df_visit_med` using `pandas.value_counts()` "
   ]
  },
  {
   "cell_type": "code",
   "execution_count": 7,
   "metadata": {},
   "outputs": [
    {
     "name": "stdout",
     "output_type": "stream",
     "text": [
      " 13850 patients have had the drugA administered. \n",
      "9039 patients have had the drugB administered.\n"
     ]
    }
   ],
   "source": [
    "count_drug = #TODO\n",
    "print(f\" {#TODO} patients have had the drugA administered. \\n{#TODO} patients have had the drugB administered.\")"
   ]
  },
  {
   "cell_type": "markdown",
   "metadata": {},
   "source": [
    "How many patients have had no drug administered according to the structured information?"
   ]
  },
  {
   "cell_type": "code",
   "execution_count": 8,
   "metadata": {},
   "outputs": [
    {
     "name": "stdout",
     "output_type": "stream",
     "text": [
      "32300 patients have had no drugs administerd.\n"
     ]
    }
   ],
   "source": [
    "print(f\"{#TODO} patients have had no drugs administerd.\")"
   ]
  },
  {
   "cell_type": "markdown",
   "metadata": {},
   "source": [
    "## 1.2 Clinical Notes\n",
    "\n",
    "In this exercise we introduce two new categories of data:\n",
    "- **free text** contained in clinical notes (*i.e.* raw data)\n",
    "- variables that have been **extracted by a pre-defined NLP algorithm** (*i.e.* extracted data).\n",
    "\n",
    "Free text is made available in a *df_note* dataframe\n",
    "\n",
    "- Open the *data/df_note.pkl* file as `df_note` using the pandas.read_pickle() function.\n",
    "- Explore the type of each feature of the df_note DataFrame with the .info() function.\n",
    "- Check out the first rows of the DataFrame using the .head() function."
   ]
  },
  {
   "cell_type": "code",
   "execution_count": 9,
   "metadata": {},
   "outputs": [
    {
     "name": "stdout",
     "output_type": "stream",
     "text": [
      "<class 'pandas.core.frame.DataFrame'>\n",
      "RangeIndex: 78000 entries, 0 to 77999\n",
      "Data columns (total 5 columns):\n",
      " #   Column               Non-Null Count  Dtype         \n",
      "---  ------               --------------  -----         \n",
      " 0   visit_occurrence_id  78000 non-null  int64         \n",
      " 1   note_datetime        78000 non-null  datetime64[ns]\n",
      " 2   note_id              78000 non-null  int64         \n",
      " 3   cdm_source           78000 non-null  object        \n",
      " 4   note_text            78000 non-null  object        \n",
      "dtypes: datetime64[ns](1), int64(2), object(2)\n",
      "memory usage: 3.0+ MB\n"
     ]
    },
    {
     "data": {
      "text/html": [
       "<div>\n",
       "<style scoped>\n",
       "    .dataframe tbody tr th:only-of-type {\n",
       "        vertical-align: middle;\n",
       "    }\n",
       "\n",
       "    .dataframe tbody tr th {\n",
       "        vertical-align: top;\n",
       "    }\n",
       "\n",
       "    .dataframe thead th {\n",
       "        text-align: right;\n",
       "    }\n",
       "</style>\n",
       "<table border=\"1\" class=\"dataframe\">\n",
       "  <thead>\n",
       "    <tr style=\"text-align: right;\">\n",
       "      <th></th>\n",
       "      <th>visit_occurrence_id</th>\n",
       "      <th>note_datetime</th>\n",
       "      <th>note_id</th>\n",
       "      <th>cdm_source</th>\n",
       "      <th>note_text</th>\n",
       "    </tr>\n",
       "  </thead>\n",
       "  <tbody>\n",
       "    <tr>\n",
       "      <th>0</th>\n",
       "      <td>80267746</td>\n",
       "      <td>2021-08-30</td>\n",
       "      <td>89456596</td>\n",
       "      <td>EHR 1</td>\n",
       "      <td>Le patient a des nausées et de vomissement dep...</td>\n",
       "    </tr>\n",
       "    <tr>\n",
       "      <th>1</th>\n",
       "      <td>82726004</td>\n",
       "      <td>2022-05-14</td>\n",
       "      <td>87921085</td>\n",
       "      <td>EHR 1</td>\n",
       "      <td>Le patient est connu des services de soins de ...</td>\n",
       "    </tr>\n",
       "    <tr>\n",
       "      <th>2</th>\n",
       "      <td>80889208</td>\n",
       "      <td>2024-02-26</td>\n",
       "      <td>83544580</td>\n",
       "      <td>EHR 1</td>\n",
       "      <td>Le patient a été hospitlisé l'année dernière d...</td>\n",
       "    </tr>\n",
       "    <tr>\n",
       "      <th>3</th>\n",
       "      <td>81267189</td>\n",
       "      <td>2020-05-13</td>\n",
       "      <td>87288459</td>\n",
       "      <td>EHR 1</td>\n",
       "      <td>Le patient est arrivé ce matin.\\ndrugB et Spin...</td>\n",
       "    </tr>\n",
       "    <tr>\n",
       "      <th>4</th>\n",
       "      <td>89982511</td>\n",
       "      <td>2020-03-14</td>\n",
       "      <td>87593924</td>\n",
       "      <td>EHR 1</td>\n",
       "      <td>Le patient a des nausées et de vomissement dep...</td>\n",
       "    </tr>\n",
       "  </tbody>\n",
       "</table>\n",
       "</div>"
      ],
      "text/plain": [
       "   visit_occurrence_id note_datetime   note_id cdm_source  \\\n",
       "0             80267746    2021-08-30  89456596      EHR 1   \n",
       "1             82726004    2022-05-14  87921085      EHR 1   \n",
       "2             80889208    2024-02-26  83544580      EHR 1   \n",
       "3             81267189    2020-05-13  87288459      EHR 1   \n",
       "4             89982511    2020-03-14  87593924      EHR 1   \n",
       "\n",
       "                                           note_text  \n",
       "0  Le patient a des nausées et de vomissement dep...  \n",
       "1  Le patient est connu des services de soins de ...  \n",
       "2  Le patient a été hospitlisé l'année dernière d...  \n",
       "3  Le patient est arrivé ce matin.\\ndrugB et Spin...  \n",
       "4  Le patient a des nausées et de vomissement dep...  "
      ]
     },
     "execution_count": 9,
     "metadata": {},
     "output_type": "execute_result"
    }
   ],
   "source": [
    "#TODO"
   ]
  },
  {
   "cell_type": "markdown",
   "metadata": {},
   "source": [
    "`df_note` is composed of 5 columns :\n",
    "- *visit_occurrence_id* : identifier of the visit\n",
    "- *note_id* : identifier of the medical note\n",
    "- *note_text* : free text contained in the medical note\n",
    "- *note_datetime* : date of text edition\n",
    "- *cdm_source* : name of the clinical software\n",
    "\n",
    "Print an example of a note using the funciton `pandas.sample()`\n",
    "\n",
    "TIP : Use the function `pandas.sample()`(see [doc](https://pandas.pydata.org/docs/reference/api/pandas.DataFrame.sample.html)) and the function `pandas.squeeze()`(see [doc](https://pandas.pydata.org/docs/reference/api/pandas.DataFrame.squeeze.html))"
   ]
  },
  {
   "cell_type": "code",
   "execution_count": 10,
   "metadata": {},
   "outputs": [
    {
     "name": "stdout",
     "output_type": "stream",
     "text": [
      "Le patient est arrivé via les urgences.\n",
      "La patient n'a pas été exposé aux traitements SpinA\n",
      "Le patient est arrivée au urgence pour diarrhée depuis ce matin.\n"
     ]
    }
   ],
   "source": [
    "print(#TODO)"
   ]
  },
  {
   "cell_type": "markdown",
   "metadata": {},
   "source": [
    "# 2. First steps with natural language processing\n"
   ]
  },
  {
   "cell_type": "markdown",
   "metadata": {},
   "source": [
    "Let's now define a new rule-based NLP algorithm that extracts drugs mentioned in clinical notes. "
   ]
  },
  {
   "cell_type": "markdown",
   "metadata": {},
   "source": [
    "We define a rule-based algorithm that consists in looking for mentions of drugs in the texts and in discarding false positive detections by predicting modifiers (negation, etc.).\n",
    "\n",
    "**Step 1: Definition of the vocabularies**\n",
    "\n",
    "We start by asking clinicians to consolidate a list of synonyms used to report the usage of drug A or drug B in the clinical notes:"
   ]
  },
  {
   "cell_type": "code",
   "execution_count": 11,
   "metadata": {},
   "outputs": [],
   "source": [
    "# Les médecins nous ont fourni les synonymes suivants.\n",
    "\n",
    "terms = dict(\n",
    "    drugA=['drugA', 'pneumo-drug', 'SpinA'],\n",
    "    drugB=['drugB', 'noso-plat', 'testmedB'],\n",
    "    medicament=['médicament', 'médicamenteux']\n",
    ")"
   ]
  },
  {
   "cell_type": "markdown",
   "metadata": {},
   "source": [
    "**Step 2: Definition of a natural language processing pipeline (rule-based)**\n",
    "\n",
    "The documentation for the NLP librairie is available [here](https://aphp.github.io/edsnlp)\n",
    "\n",
    "We now integrate this dictionary in a NLP-pipeline as described in the *eds-nlp* documentation, in order to realize the various pre-processing steps necessary to extract a meaningful variable:"
   ]
  },
  {
   "cell_type": "code",
   "execution_count": 12,
   "metadata": {},
   "outputs": [],
   "source": [
    "#Utiliser edsnlp pour extraitre les 3 entités ci dessus : \n",
    "import spacy\n",
    "import numpy as np\n",
    "import warnings\n",
    "warnings.filterwarnings(\"ignore\", category=UserWarning)\n",
    "\n",
    "# Load declared pipelines\n",
    "# from edsnlp import components\n",
    "from edsnlp.processing.parallel import pipe as parallel_pipe\n",
    "from spacy import displacy"
   ]
  },
  {
   "cell_type": "markdown",
   "metadata": {},
   "source": [
    "Create a first pipeline using :\n",
    "- eds.sentences \n",
    "- eds.normalier\n",
    "- eds.matcher with `terms` as the configuration file\n",
    "- eds.negation"
   ]
  },
  {
   "cell_type": "code",
   "execution_count": 13,
   "metadata": {},
   "outputs": [
    {
     "data": {
      "text/plain": [
       "<edsnlp.pipelines.qualifiers.negation.negation.Negation at 0x7fac8ec622d0>"
      ]
     },
     "execution_count": 13,
     "metadata": {},
     "output_type": "execute_result"
    }
   ],
   "source": [
    "#TODO"
   ]
  },
  {
   "cell_type": "markdown",
   "metadata": {},
   "source": [
    "Apply the pipeline to one document to see if it works (see [doc](https://aphp.github.io/edsnlp/latest/tutorials/matching-a-terminology/#visualising-matched-entities)).\n",
    "\n",
    "TIPS : \n",
    "- Use the function `pandas.sample()`(see [doc](https://pandas.pydata.org/docs/reference/api/pandas.DataFrame.sample.html)) and the function `pandas.squeeze()`(see [doc](https://pandas.pydata.org/docs/reference/api/pandas.DataFrame.squeeze.html)) to extract a text.\n",
    "- Apply your nlp pipeline to create a `doc`\n",
    "- Apply `displacy.render()`"
   ]
  },
  {
   "cell_type": "code",
   "execution_count": 14,
   "metadata": {},
   "outputs": [
    {
     "data": {
      "text/html": [
       "<span class=\"tex2jax_ignore\"><div class=\"entities\" style=\"line-height: 2.5; direction: ltr\">Vit : seul - avec son conjoint - chez un membre de la famille - entouré par sa famille - en famille d'accueil</br>2 plaquettes de \n",
       "<mark class=\"entity\" style=\"background: orange; padding: 0.45em 0.6em; margin: 0 0.25em; line-height: 1; border-radius: 0.35em;\">\n",
       "    drugA\n",
       "    <span style=\"font-size: 0.8em; font-weight: bold; line-height: 1; border-radius: 0.35em; vertical-align: middle; margin-left: 0.5rem\">drugA</span>\n",
       "</mark>\n",
       "</br>Le patient est arrivée au urgence pour diarrhée depuis ce matin.</div></span>"
      ],
      "text/plain": [
       "<IPython.core.display.HTML object>"
      ]
     },
     "metadata": {},
     "output_type": "display_data"
    }
   ],
   "source": [
    "#TODO"
   ]
  },
  {
   "cell_type": "markdown",
   "metadata": {},
   "source": [
    "**Step 3: Application of the natural language processing pipeline on all the clinical notes**\n",
    "\n",
    "Apply this NLP pipeline to the texts of our dataset to extract entities by using the `edsnlp.parallel_pipe()` function (see [doc](https://aphp.github.io/edsnlp/latest/tutorials/multiple-texts/#processing-a-pandas-dataframe)).\n",
    "<br>You should obtain a `pd.DataFrame` *ents*\n",
    "\n",
    "A `pick_result` function is given to standardise the output (results_extrator)\n"
   ]
  },
  {
   "cell_type": "code",
   "execution_count": 15,
   "metadata": {},
   "outputs": [],
   "source": [
    "def pick_results(doc):\n",
    "    \"\"\"\n",
    "    This function provides the entities that must be collected by the nlp process.\n",
    "    \"\"\"\n",
    "    return [{\n",
    "             'note_id':e.doc._.note_id,\n",
    "             'visit_occurrence_id':e.doc._.visit_occurrence_id,\n",
    "             'lexical_variant':e.text,\n",
    "             'label':e.label_,\n",
    "             'negation':e._.negation\n",
    "             } \n",
    "             for e in doc.ents if doc.ents]"
   ]
  },
  {
   "cell_type": "code",
   "execution_count": 16,
   "metadata": {},
   "outputs": [
    {
     "name": "stderr",
     "output_type": "stream",
     "text": [
      "WARNING:root:[Parallel(n_jobs=-2)]: Used nlp components: ['eds.sentences', 'eds.normalizer', 'eds.matcher', 'eds.negation']\n"
     ]
    }
   ],
   "source": [
    "#TODO"
   ]
  },
  {
   "cell_type": "markdown",
   "metadata": {},
   "source": [
    "Show the first rows of the dataframe `ents`"
   ]
  },
  {
   "cell_type": "code",
   "execution_count": 17,
   "metadata": {},
   "outputs": [
    {
     "data": {
      "text/html": [
       "<div>\n",
       "<style scoped>\n",
       "    .dataframe tbody tr th:only-of-type {\n",
       "        vertical-align: middle;\n",
       "    }\n",
       "\n",
       "    .dataframe tbody tr th {\n",
       "        vertical-align: top;\n",
       "    }\n",
       "\n",
       "    .dataframe thead th {\n",
       "        text-align: right;\n",
       "    }\n",
       "</style>\n",
       "<table border=\"1\" class=\"dataframe\">\n",
       "  <thead>\n",
       "    <tr style=\"text-align: right;\">\n",
       "      <th></th>\n",
       "      <th>note_id</th>\n",
       "      <th>visit_occurrence_id</th>\n",
       "      <th>lexical_variant</th>\n",
       "      <th>label</th>\n",
       "      <th>negation</th>\n",
       "    </tr>\n",
       "  </thead>\n",
       "  <tbody>\n",
       "    <tr>\n",
       "      <th>0</th>\n",
       "      <td>89456596</td>\n",
       "      <td>80267746</td>\n",
       "      <td>SpinA</td>\n",
       "      <td>drugA</td>\n",
       "      <td>False</td>\n",
       "    </tr>\n",
       "    <tr>\n",
       "      <th>1</th>\n",
       "      <td>87921085</td>\n",
       "      <td>82726004</td>\n",
       "      <td>noso-plat</td>\n",
       "      <td>drugB</td>\n",
       "      <td>False</td>\n",
       "    </tr>\n",
       "    <tr>\n",
       "      <th>2</th>\n",
       "      <td>83544580</td>\n",
       "      <td>80889208</td>\n",
       "      <td>testmedB</td>\n",
       "      <td>drugB</td>\n",
       "      <td>True</td>\n",
       "    </tr>\n",
       "    <tr>\n",
       "      <th>3</th>\n",
       "      <td>87288459</td>\n",
       "      <td>81267189</td>\n",
       "      <td>drugB</td>\n",
       "      <td>drugB</td>\n",
       "      <td>False</td>\n",
       "    </tr>\n",
       "    <tr>\n",
       "      <th>4</th>\n",
       "      <td>87288459</td>\n",
       "      <td>81267189</td>\n",
       "      <td>SpinA</td>\n",
       "      <td>drugA</td>\n",
       "      <td>True</td>\n",
       "    </tr>\n",
       "  </tbody>\n",
       "</table>\n",
       "</div>"
      ],
      "text/plain": [
       "    note_id  visit_occurrence_id lexical_variant  label  negation\n",
       "0  89456596             80267746           SpinA  drugA     False\n",
       "1  87921085             82726004       noso-plat  drugB     False\n",
       "2  83544580             80889208        testmedB  drugB      True\n",
       "3  87288459             81267189           drugB  drugB     False\n",
       "4  87288459             81267189           SpinA  drugA      True"
      ]
     },
     "execution_count": 17,
     "metadata": {},
     "output_type": "execute_result"
    }
   ],
   "source": [
    "#TODO"
   ]
  },
  {
   "cell_type": "markdown",
   "metadata": {},
   "source": [
    "**Step 4: Create rules to classify each result and identify the patients for each drug**\n",
    "\n",
    "First, we classify each entity detected according to the rules bellow : \n",
    "\n",
    "- (drugA OR drugB OR medicament) AND NEGATION = control\n",
    "- drugA AND NOT(NEGATION) = cohortA\n",
    "- drugB AND NOT(NEGATION) = cohortB\n",
    "- else : unknown\n",
    "  \n",
    "Then, for a given `note_id` aka a given `visit_occurrence_id`, we combine the entities detected and classified as followed : \n",
    "- if control + cohortA = ambiguous\n",
    "- if control + cohortB = ambiguous\n",
    "- if cohortA + cohortB = ambiguous\n",
    "- if control + unknown = control\n",
    "- if cohortA + unknown = cohortA\n",
    "- if cohortB + unknown = cohortB\n",
    "\n",
    "The classification function `calc_value` is provided. <br>"
   ]
  },
  {
   "cell_type": "code",
   "execution_count": null,
   "metadata": {},
   "outputs": [],
   "source": [
    "def calc_value(x):\n",
    "    state = \"unknown\"\n",
    "    for _, row in x.iterrows():\n",
    "        if row['label'] in ['medicament', 'drugA', 'drugB'] and row['negation']:\n",
    "            if state == \"unknown\" or state == \"control\":\n",
    "                state = \"control\"\n",
    "            else:\n",
    "                state = \"ambiguous\"\n",
    "        elif row['label'] == 'drugA' and not row['negation']:\n",
    "            if state == \"unknown\" or state == \"drugA\":\n",
    "                state = \"drugA\"\n",
    "            else:\n",
    "                state = \"ambiguous\"\n",
    "        elif row['label'] == 'drugB' and not row['negation']:\n",
    "            if state == \"unknown\" or state == \"drugB\":\n",
    "                state = \"drugB\"\n",
    "            else:\n",
    "                state = \"ambiguous\"\n",
    "    return state"
   ]
  },
  {
   "cell_type": "markdown",
   "metadata": {},
   "source": [
    "Create a `pd.DataFrame` *ents_grouped* with the processed data extracted from clinical notes.\n",
    "\n",
    "`ents_grouped` is composed of 2 columns :\n",
    "- *visit_occurrence_id* : identifier of the visit\n",
    "- *drug_source_value* : The output of the NLP° and the classification algorithm"
   ]
  },
  {
   "cell_type": "code",
   "execution_count": null,
   "metadata": {},
   "outputs": [],
   "source": [
    "undesired_state = ['unknown', 'ambiguous']\n",
    "ents_grouped = #TODO"
   ]
  },
  {
   "cell_type": "markdown",
   "metadata": {},
   "source": [
    "**Step 5: Compare nlp results to structured data provided by the hospitals**\n",
    "\n",
    "\n",
    "Acccording to the NLP-pipeline, how many patients have had the drug : \n",
    "- drugA  administered ?\n",
    "- drugB administered ?\n",
    "\n",
    "TIP : Count the number of drugA and drugB administered in the dataset `ents_grouped` using `pandas.value_counts()` "
   ]
  },
  {
   "cell_type": "code",
   "execution_count": 19,
   "metadata": {},
   "outputs": [
    {
     "data": {
      "text/plain": [
       "drugA        19501\n",
       "drugB        19387\n",
       "control      15877\n",
       "ambiguous     5235\n",
       "Name: drug_source_value, dtype: int64"
      ]
     },
     "execution_count": 19,
     "metadata": {},
     "output_type": "execute_result"
    }
   ],
   "source": [
    "#TODO"
   ]
  },
  {
   "cell_type": "markdown",
   "metadata": {},
   "source": [
    "# 3. Statistical analysis\n",
    "\n",
    "Now that we have identified drug admission using NLP,  we can conduct the statistical analysis showing the impact of the missing data . \n",
    "<br>We plot the Kaplan-Meier estimates of survival curves, and realize the log-rank tests.\n",
    "<br> The same functions `plot_primary_kaplan` used in the previous notebook can be used to plot the curves.\n",
    "<br> If needed, you can print the docstrings using `print(plot_primary_kaplan.__doc__)`.\n",
    "\n",
    "In this exercice, we have only kept the visits regarding the epidemic conditions. `df_visit` and `df_med` can be used to without any preprocessing."
   ]
  },
  {
   "cell_type": "markdown",
   "metadata": {},
   "source": []
  },
  {
   "cell_type": "code",
   "execution_count": 20,
   "metadata": {},
   "outputs": [],
   "source": [
    "t_end_of_study = datetime.date(2025,12,1)"
   ]
  },
  {
   "cell_type": "code",
   "execution_count": 21,
   "metadata": {},
   "outputs": [],
   "source": [
    " #Import the helper functions\n",
    "import sys\n",
    "sys.path.append(\"../\")\n",
    "from viz import plot_primary_kaplan, plot_secondary_kaplan"
   ]
  },
  {
   "cell_type": "markdown",
   "metadata": {},
   "source": [
    "## 3.1 Without NLP extraction algorithm the person dataset\n",
    "\n",
    "Plot the  primary Kaplan-Meier estimates for the whole `df_person` DataFrame"
   ]
  },
  {
   "cell_type": "code",
   "execution_count": 22,
   "metadata": {},
   "outputs": [
    {
     "data": {
      "image/png": "[encoded data removed]",
      "text/plain": [
       "<Figure size 756x396 with 4 Axes>"
      ]
     },
     "metadata": {
      "needs_background": "light"
     },
     "output_type": "display_data"
    }
   ],
   "source": [
    "#TODO"
   ]
  },
  {
   "cell_type": "markdown",
   "metadata": {},
   "source": [
    "What can be concluded on the effect of each drugs?"
   ]
  },
  {
   "cell_type": "markdown",
   "metadata": {},
   "source": [
    "**Correction** :\n",
    "<br> It seems that drugA has a positive impact on the survival of the patients.\n",
    "<br> but that drugB doesn't."
   ]
  },
  {
   "cell_type": "markdown",
   "metadata": {},
   "source": [
    "## 3.2 Using the NLP extraction algorithm\n",
    "\n",
    "Plot the  primary Kaplan-Meier estimates for the whole `ents_grouped` dataFrame"
   ]
  },
  {
   "cell_type": "code",
   "execution_count": 23,
   "metadata": {},
   "outputs": [
    {
     "data": {
      "image/png": "[encoded data removed]",
      "text/plain": [
       "<Figure size 756x396 with 4 Axes>"
      ]
     },
     "metadata": {
      "needs_background": "light"
     },
     "output_type": "display_data"
    }
   ],
   "source": [
    "#TODO"
   ]
  },
  {
   "cell_type": "markdown",
   "metadata": {},
   "source": [
    "In this exercise we have illustrated some challenges related to handling clinical notes when conducting a study using real-world data. We have shown that different approaches may be adopted and compared."
   ]
  },
  {
   "cell_type": "markdown",
   "metadata": {},
   "source": [
    "# V. Takeaways\n",
    "\n",
    "\n",
    "- **Clinical notes** are unstructured data that contain numerous pieces of information but which is challenging to analyze. Specific pre-processing pipelines should be developed, validated and deployed to extract structured variables out of unstructured texts (**Natural Language Processing** algorithms - NLP).\n",
    "- Natural Language processing algorithms rely either on a **rule-based approach** or on a **machine learning approach**. Whereas rule-based approaches are technically simpler than machine learning approaches, they require a strong contribution of expert clinicians to handcraft rules. Both approaches have their pros and cons and they may be compared on some specific tasks.\n",
    "- A single variable used at the statistical analysis stage may be **defined leveraging various sources of data**, either structured or unstructured. The methodology used to define each variable may impact the result of the statistical analysis, and it should consequently be discussed."
   ]
  },
  {
   "cell_type": "markdown",
   "metadata": {},
   "source": [
    "# VI. References\n",
    "\n",
    "- Honnibal, Matthew, Ines Montani, Matthew Honnibal, Henning Peters, Sofie Van Landeghem, Maxim Samsonov, Jim Geovedi, et al. explosion/spaCy: v2.1.7: Improved evaluation, better language factories and bug fixes. Zenodo, 2019. https://doi.org/10.5281/zenodo.3358113.\n",
    "- Aronow, D. B., F. Fangfang, et W. B. Croft. « Ad Hoc Classification of Radiology Reports ». Journal of the American Medical Informatics Association 6, nᵒ 5 (1 septembre 1999): 393‑411. https://doi.org/10.1136/jamia.1999.0060393.\n",
    "- Garcelon, Nicolas, Antoine Neuraz, Vincent Benoit, Rémi Salomon, et Anita Burgun. « Improving a Full-Text Search Engine: The Importance of Negation Detection and Family History Context to Identify Cases in a Biomedical Data Warehouse ». Journal of the American Medical Informatics Association, 20 octobre 2016, ocw144. https://doi.org/10.1093/jamia/ocw144.\n",
    "- Jouffroy, Jordan, Sarah F Feldman, Ivan Lerner, Bastien Rance, Anita Burgun, et Antoine Neuraz. « Hybrid Deep Learning for Medication-Related Information Extraction From Clinical Texts in French: MedExt Algorithm Development Study ». JMIR Medical Informatics 9, nᵒ 3 (16 mars 2021): e17934. https://doi.org/10.2196/17934.\n",
    "- Névéol, Aurélie, Hercules Dalianis, Sumithra Velupillai, Guergana Savova, et Pierre Zweigenbaum. « Clinical Natural Language Processing in Languages Other than English: Opportunities and Challenges ». Journal of Biomedical Semantics 9, nᵒ 1 (décembre 2018): 12. https://doi.org/10.1186/s13326-018-0179-8."
   ]
  }
 ],
 "metadata": {
  "interpreter": {
   "hash": "afc1dbcce44f46f34736708e9235fb32a9f524c1a2587f2b8326d4548d0709b1"
  },
  "kernelspec": {
   "display_name": "Python 3.7.11 ('eds-tuto')",
   "language": "python",
   "name": "python3"
  },
  "language_info": {
   "codemirror_mode": {
    "name": "ipython",
    "version": 3
   },
   "file_extension": ".py",
   "mimetype": "text/x-python",
   "name": "python",
   "nbconvert_exporter": "python",
   "pygments_lexer": "ipython3",
   "version": "3.7.11"
  }
 },
 "nbformat": 4,
 "nbformat_minor": 4
}

{
 "cells": [
  {
   "cell_type": "markdown",
   "source": [
    "# Exercise 2: Data linkage\n",
    "\n",
    "In this exercise we want to evaluate the impact of duplicated patients in a dataset.\n",
    "A table of deduplicated patient identifiers is provided for 2 algorithms : either a deterministic algorithm or a probabilistic algorithm. \n",
    "\n",
    "In this exercice, we will : \n",
    "1. Deduplicate the dataset by using a deterministic algorithm\n",
    "2. Deduplicate the dataset by using a probabilistic algorithm\n",
    "3. Compare the Kaplan-Meyer curves between these 2 groups and non deduplicated data from exercice 1.\n",
    "\n",
    "We initialize the notebook by importing the following libraries:"
   ],
   "metadata": {}
  },
  {
   "cell_type": "code",
   "execution_count": 1,
   "source": [
    "import pandas as pd\n",
    "import numpy as np\n",
    "\n",
    "# Visualization library\n",
    "import matplotlib.pyplot as plt\n",
    "import altair as alt\n",
    "alt.data_transformers.enable('default', max_rows=None)\n",
    "\n",
    "# Dates management\n",
    "import datetime"
   ],
   "outputs": [],
   "metadata": {}
  },
  {
   "cell_type": "markdown",
   "source": [
    "# Table of content"
   ],
   "metadata": {}
  },
  {
   "cell_type": "markdown",
   "source": [
    "# 1. Data Exploration\n",
    "\n",
    "\n",
    "A fake dataset that mimics data coming from a clinical information system is made available in the */data* folder of this exercise.\n",
    "<br>For this study, data has been extracted from the Clinical Data Warehouse on December 1st, 2025.\n",
    "<br>The same data than in exercice 1 is imported\n",
    "\n",
    "## 1.1 Data extracted from the Clinical Data Warehouse\n",
    "\n",
    "Open the following files using the `pandas.read_pickle()` function : \n",
    "  - *data/df_person.pkl* as `df_person`\n",
    "  - *data/df_visit.pkl* as `df_visit`\n",
    "  - *data/df_condition.pkl* as `df_cond`\n",
    "  - *data/df_med.pkl* as `df_med`\n"
   ],
   "metadata": {}
  },
  {
   "cell_type": "code",
   "execution_count": 2,
   "source": [
    "# Patients\n",
    "df_person = #TODO\n",
    "\n",
    "# Visits\n",
    "df_visit = #TODO\n",
    "\n",
    "# Diagnosis (condition)\n",
    "df_cond = #TODO\n",
    "\n",
    "# Medication\n",
    "df_med = #TODO"
   ],
   "outputs": [],
   "metadata": {}
  },
  {
   "cell_type": "markdown",
   "source": [
    "## 1.2 Data provided by the deterministic deduplication algorithm\n",
    "\n",
    "The results of the **deterministe algorithm** are made available in the *df_dedup_det* dataframe.\n",
    "\n",
    "- Open the *data/df_dedup_deterministic.pkl* file as `df_dedup_det` using the `pandas.read_pickle()` function.\n",
    "- Explore the type of each feature of the df_dedup_det DataFrame with the `.info()` function.\n",
    "- Check out the first rows of the DataFrame using the `.head()` function.\n"
   ],
   "metadata": {}
  },
  {
   "cell_type": "code",
   "execution_count": 3,
   "source": [
    "df_dedup_det = #TODO\n",
    "#TODO"
   ],
   "outputs": [
    {
     "output_type": "stream",
     "name": "stdout",
     "text": [
      "<class 'pandas.core.frame.DataFrame'>\n",
      "Int64Index: 1988 entries, 1279 to 2046\n",
      "Data columns (total 2 columns):\n",
      " #   Column            Non-Null Count  Dtype \n",
      "---  ------            --------------  ----- \n",
      " 0   unique_person_id  1988 non-null   int64 \n",
      " 1   person_id         1988 non-null   object\n",
      "dtypes: int64(1), object(1)\n",
      "memory usage: 46.6+ KB\n"
     ]
    },
    {
     "output_type": "execute_result",
     "data": {
      "text/plain": [
       "      unique_person_id person_id\n",
       "1279             51670     54272\n",
       "1572             39618     42592\n",
       "2801             40847     42996\n",
       "484               3150      3341\n",
       "2035             26747     29369"
      ],
      "text/html": [
       "<div>\n",
       "<style scoped>\n",
       "    .dataframe tbody tr th:only-of-type {\n",
       "        vertical-align: middle;\n",
       "    }\n",
       "\n",
       "    .dataframe tbody tr th {\n",
       "        vertical-align: top;\n",
       "    }\n",
       "\n",
       "    .dataframe thead th {\n",
       "        text-align: right;\n",
       "    }\n",
       "</style>\n",
       "<table border=\"1\" class=\"dataframe\">\n",
       "  <thead>\n",
       "    <tr style=\"text-align: right;\">\n",
       "      <th></th>\n",
       "      <th>unique_person_id</th>\n",
       "      <th>person_id</th>\n",
       "    </tr>\n",
       "  </thead>\n",
       "  <tbody>\n",
       "    <tr>\n",
       "      <th>1279</th>\n",
       "      <td>51670</td>\n",
       "      <td>54272</td>\n",
       "    </tr>\n",
       "    <tr>\n",
       "      <th>1572</th>\n",
       "      <td>39618</td>\n",
       "      <td>42592</td>\n",
       "    </tr>\n",
       "    <tr>\n",
       "      <th>2801</th>\n",
       "      <td>40847</td>\n",
       "      <td>42996</td>\n",
       "    </tr>\n",
       "    <tr>\n",
       "      <th>484</th>\n",
       "      <td>3150</td>\n",
       "      <td>3341</td>\n",
       "    </tr>\n",
       "    <tr>\n",
       "      <th>2035</th>\n",
       "      <td>26747</td>\n",
       "      <td>29369</td>\n",
       "    </tr>\n",
       "  </tbody>\n",
       "</table>\n",
       "</div>"
      ]
     },
     "metadata": {},
     "execution_count": 3
    }
   ],
   "metadata": {}
  },
  {
   "cell_type": "markdown",
   "source": [
    "<br> The dataframe `df_dedup_det` is composed of 2 columns :\n",
    "- *unique_person_id* : this id is the *real* id for the patient\n",
    "- *person_id* : this id is another one, created by mistake"
   ],
   "metadata": {}
  },
  {
   "cell_type": "markdown",
   "source": [
    "## 1.3 Data provided by the probabilistic deduplication algorithm\n",
    "\n",
    "The results of the **probabilistic algorithm** are made available in the *df_dedup_proba* dataframe.\n",
    "\n",
    "- Open the *data/df_dedup_proba.pkl* file as `df_dedup_proba` using the `pandas.read_pickle()` function.\n",
    "- Explore the type of each feature of the df_dedup_proba DataFrame with the `.info()` function.\n",
    "- Check out the first rows of the DataFrame using the `.head()` function.\n"
   ],
   "metadata": {}
  },
  {
   "cell_type": "code",
   "execution_count": 4,
   "source": [
    "df_dedup_proba = #TODO\n",
    "#TODO"
   ],
   "outputs": [
    {
     "output_type": "stream",
     "name": "stdout",
     "text": [
      "<class 'pandas.core.frame.DataFrame'>\n",
      "Int64Index: 9285 entries, 471 to 122\n",
      "Data columns (total 3 columns):\n",
      " #   Column            Non-Null Count  Dtype  \n",
      "---  ------            --------------  -----  \n",
      " 0   unique_person_id  9285 non-null   int64  \n",
      " 1   person_id         9285 non-null   object \n",
      " 2   prob              9285 non-null   float64\n",
      "dtypes: float64(1), int64(1), object(1)\n",
      "memory usage: 290.2+ KB\n"
     ]
    },
    {
     "output_type": "execute_result",
     "data": {
      "text/plain": [
       "     unique_person_id person_id      prob\n",
       "471             38340     42155  0.950403\n",
       "211             10605     11706  0.413216\n",
       "164             10398     11637  0.210715\n",
       "628             25766     29058  0.920532\n",
       "225             14059     14374  0.939732"
      ],
      "text/html": [
       "<div>\n",
       "<style scoped>\n",
       "    .dataframe tbody tr th:only-of-type {\n",
       "        vertical-align: middle;\n",
       "    }\n",
       "\n",
       "    .dataframe tbody tr th {\n",
       "        vertical-align: top;\n",
       "    }\n",
       "\n",
       "    .dataframe thead th {\n",
       "        text-align: right;\n",
       "    }\n",
       "</style>\n",
       "<table border=\"1\" class=\"dataframe\">\n",
       "  <thead>\n",
       "    <tr style=\"text-align: right;\">\n",
       "      <th></th>\n",
       "      <th>unique_person_id</th>\n",
       "      <th>person_id</th>\n",
       "      <th>prob</th>\n",
       "    </tr>\n",
       "  </thead>\n",
       "  <tbody>\n",
       "    <tr>\n",
       "      <th>471</th>\n",
       "      <td>38340</td>\n",
       "      <td>42155</td>\n",
       "      <td>0.950403</td>\n",
       "    </tr>\n",
       "    <tr>\n",
       "      <th>211</th>\n",
       "      <td>10605</td>\n",
       "      <td>11706</td>\n",
       "      <td>0.413216</td>\n",
       "    </tr>\n",
       "    <tr>\n",
       "      <th>164</th>\n",
       "      <td>10398</td>\n",
       "      <td>11637</td>\n",
       "      <td>0.210715</td>\n",
       "    </tr>\n",
       "    <tr>\n",
       "      <th>628</th>\n",
       "      <td>25766</td>\n",
       "      <td>29058</td>\n",
       "      <td>0.920532</td>\n",
       "    </tr>\n",
       "    <tr>\n",
       "      <th>225</th>\n",
       "      <td>14059</td>\n",
       "      <td>14374</td>\n",
       "      <td>0.939732</td>\n",
       "    </tr>\n",
       "  </tbody>\n",
       "</table>\n",
       "</div>"
      ]
     },
     "metadata": {},
     "execution_count": 4
    }
   ],
   "metadata": {}
  },
  {
   "cell_type": "markdown",
   "source": [
    "<br> The dataframe `df_dedup_proba` is composed of 3 columns :\n",
    "- *unique_person_id* : this id is the *real* id for the patient\n",
    "- *person_id* : this id is another one, created by mistake\n",
    "- *prob* : the probability that the 2 these 2 ids are actually the same person"
   ],
   "metadata": {}
  },
  {
   "cell_type": "markdown",
   "source": [
    "# 2. Preprocessing\n",
    "\n",
    "## 2.1 Deduplicating using the deterministic algorithm\n"
   ],
   "metadata": {}
  },
  {
   "cell_type": "markdown",
   "source": [
    "<br> The dataframe `df_dedup_det` is composed of 2 columns :\n",
    "- *unique_person_id* : this id is the *real* id for the patient\n",
    "- *person_id* : this id is another one, created by mistake\n",
    "\n",
    "We are going to clean the `df_person` dataframe by only keeping a single id per patient.\n",
    "- Create a dataframe `df_person_dedup_det` from `df_person` that contains 1 row per patient.\n",
    "\n",
    "TIPS : \n",
    "- Outer join `df_person` and `df_dedup_det` on *person_id* using the `pandas.merge()` function (see [doc](https://pandas.pydata.org/docs/reference/api/pandas.DataFrame.merge.html))\n",
    "- Fill in the *unique_person_id* column with the *person_id* column when empty using the `pandas.fillna()` function (see [doc](https://pandas.pydata.org/docs/reference/api/pandas.DataFrame.fillna.html))\n",
    "- If several rows have the same *unique_person_id*, only keep the first one using `pandas.drop_duplicates()` (see [doc](https://pandas.pydata.org/docs/reference/api/pandas.DataFrame.drop_duplicates.html))"
   ],
   "metadata": {}
  },
  {
   "cell_type": "code",
   "execution_count": 5,
   "source": [
    "# Outer Join\n",
    "df_person_dedup_det = #TODO\n",
    "\n",
    "# Only unique ids in unique_person_id\n",
    "#TODO\n",
    "\n",
    "# Only keep on row per patoent\n",
    "#TODO"
   ],
   "outputs": [],
   "metadata": {}
  },
  {
   "cell_type": "markdown",
   "source": [
    "How many patients have we left ?"
   ],
   "metadata": {}
  },
  {
   "cell_type": "code",
   "execution_count": 6,
   "source": [
    "print(f\"We have {#TODO} unique patient ids in this dataset when using the determinist algorithm.\")"
   ],
   "outputs": [
    {
     "output_type": "stream",
     "name": "stdout",
     "text": [
      "We have 64636 unique patient ids in this dataset when using the determinist algorithm.\n"
     ]
    }
   ],
   "metadata": {}
  },
  {
   "cell_type": "markdown",
   "source": [
    "## 2.2 Deduplicatng using probabilistic algorithm\n",
    "\n",
    "<br> The dataframe `df_dedup_proba` is composed of 3 columns :\n",
    "- *unique_person_id* : this id is the *real* id for the patient\n",
    "- *person_id* : this id is another one, created by mistake\n",
    "- *prob* : the probability that the 2 these 2 ids are actually the same person\n",
    "\n",
    "Observe the distribution of the probabilities using `pandas.describe()` function"
   ],
   "metadata": {}
  },
  {
   "cell_type": "code",
   "execution_count": 7,
   "source": [
    "#TODO"
   ],
   "outputs": [
    {
     "output_type": "execute_result",
     "data": {
      "text/plain": [
       "count    9285.000000\n",
       "mean        0.575268\n",
       "std         0.390510\n",
       "min         0.000069\n",
       "25%         0.150785\n",
       "50%         0.641858\n",
       "75%         0.982098\n",
       "max         1.000000\n",
       "Name: prob, dtype: float64"
      ]
     },
     "metadata": {},
     "execution_count": 7
    }
   ],
   "metadata": {}
  },
  {
   "cell_type": "markdown",
   "source": [
    "Plot the estimated density of the distribution of the probabilities using `pandas.plot.density()` (see [doc](https://pandas.pydata.org/docs/reference/api/pandas.DataFrame.plot.density.html))"
   ],
   "metadata": {}
  },
  {
   "cell_type": "code",
   "execution_count": 8,
   "source": [
    "#TODO"
   ],
   "outputs": [
    {
     "output_type": "execute_result",
     "data": {
      "text/plain": [
       "[]"
      ]
     },
     "metadata": {},
     "execution_count": 8
    },
    {
     "output_type": "display_data",
     "data": {
      "text/plain": [
       "<Figure size 432x288 with 1 Axes>"
      ],
      "image/png": "[encoded data removed]"
     },
     "metadata": {
      "needs_background": "light"
     }
    }
   ],
   "metadata": {}
  },
  {
   "cell_type": "markdown",
   "source": [
    "**QUESTION**\n",
    "Pourquoi des valeurs avant 0 et après 1 ?"
   ],
   "metadata": {}
  },
  {
   "cell_type": "markdown",
   "source": [
    "Why is there a peak at probability = 1?"
   ],
   "metadata": {}
  },
  {
   "cell_type": "markdown",
   "source": [
    "Create a function `deduplicate_proba(df_person: pd.DataFrame, df_dedup_proba: pd.DataFrame, score: int)` that returns a dataset of deduplicated person ids if their similarity score was above `score`.\n",
    "\n",
    "TIPS : \n",
    "- Create a subset dataframe `df_dedup_proba_score` of df_person_dedup_proba keeping only rows where `'prob' > score`\n",
    "- Outer join `df_person` and `df_dedup_proba_score` on *person_id* using the `pandas.merge()` function (see [doc](https://pandas.pydata.org/docs/reference/api/pandas.DataFrame.merge.html))\n",
    "- Fill in the *unique_person_id* column with the *person_id* column when empty using the `pandas.fillna()` function (see [doc](https://pandas.pydata.org/docs/reference/api/pandas.DataFrame.fillna.html))\n",
    "- If several rows have the same *unique_person_id*, only keep the first one using `pandas.drop_duplicates()` (see [doc](https://pandas.pydata.org/docs/reference/api/pandas.DataFrame.drop_duplicates.html))"
   ],
   "metadata": {}
  },
  {
   "cell_type": "code",
   "execution_count": 9,
   "source": [
    "#TODO"
   ],
   "outputs": [],
   "metadata": {}
  },
  {
   "cell_type": "markdown",
   "source": [
    "Create a dataframe `df_person_dedup_proba_90` that only keeps the similarity scores above 0.90.<br>\n",
    "How many patients do we have if the similarity score must be above 0.90 ?"
   ],
   "metadata": {}
  },
  {
   "cell_type": "code",
   "execution_count": 14,
   "source": [
    "df_person_dedup_proba_90 = #TODO\n",
    "print(f\"We have {#TODO} unique patient ids in this dataset when using the probabilistic algorithm and a threshold of 0.90.\")"
   ],
   "outputs": [
    {
     "output_type": "stream",
     "name": "stdout",
     "text": [
      "We have 62776 unique patient ids in this dataset when using the probabilistic algorithm and a threshold of 0.90.\n"
     ]
    }
   ],
   "metadata": {}
  },
  {
   "cell_type": "markdown",
   "source": [
    "Create a dataframe `df_person_dedup_proba_20` that only keeps the similarity scores above 0.20.<br>\n",
    "How many patients do we have if the similarity score must be above 0.20 ?"
   ],
   "metadata": {}
  },
  {
   "cell_type": "code",
   "execution_count": 15,
   "source": [
    "df_person_dedup_proba_20 = #TODO\n",
    "print(f\"We have {#TODO} unique patient ids in this dataset when using the probabilistic algorithm and a threshold of 0.20.\")"
   ],
   "outputs": [
    {
     "output_type": "stream",
     "name": "stdout",
     "text": [
      "We have 60639 unique patient ids in this dataset when using the probabilistic algorithm and a threshold of 0.20.\n"
     ]
    }
   ],
   "metadata": {}
  },
  {
   "cell_type": "markdown",
   "source": [
    "We can see that most linked records feature a high similarity score, but a significant amount of additional records would be matched by setting a low threshold. Let's compare two strategies for threshold setting, a high threshold strategy (*i.e.* keeping only high-confidence linkages, but missing some records that should be matched) and a low threshold strategy (*i.e.* linking most records that feature some similarities, among which some linkages correspond actually to different visits). \n",
    "<br>We choose as thresholds the values **0.9** and **0.2** to compare the consequences of both thresholds."
   ],
   "metadata": {}
  },
  {
   "cell_type": "markdown",
   "source": [
    "# 3. Statistical analysis\n",
    "\n",
    "Now that we have deduplicated patient ids,  we can conduct the statistical analysis showing the impact of the deduplication process. \n",
    "<br>We plot the Kaplan-Meier estimates of survival curves, and realize the log-rank tests.\n",
    "<br> The same functions `plot_primary_kaplan` used in the previous notebook can be used to plot the curves.\n",
    "<br> If needed, you can print the docstrings using `print(plot_primary_kaplan.__doc__)`.\n",
    "\n",
    "For this exercise, we have only kept the visits regarding the epidemic conditions. `df_visit` and `df_med` can be used to without any preprocessing."
   ],
   "metadata": {}
  },
  {
   "cell_type": "code",
   "execution_count": 16,
   "source": [
    "t_end_of_study = datetime.date(2025,12,1)"
   ],
   "outputs": [],
   "metadata": {}
  },
  {
   "cell_type": "code",
   "execution_count": 18,
   "source": [
    " #Import the helper functions\n",
    "import sys\n",
    "sys.path.append(\"../\")\n",
    "from viz import plot_primary_kaplan, plot_secondary_kaplan"
   ],
   "outputs": [],
   "metadata": {}
  },
  {
   "cell_type": "code",
   "execution_count": 278,
   "source": [
    "print(plot_primary_kaplan.__doc__)"
   ],
   "outputs": [
    {
     "output_type": "stream",
     "name": "stdout",
     "text": [
      "\n",
      "    Displays KaplanMeierFitter graphs for drugA and drugB for the overall population.\n",
      "\n",
      "    :param df_person_kaplan: pandas df,\n",
      "        minimal \"person\" table (same schema than raw data df)\n",
      "    :param df_cond_kaplan: pandas df,\n",
      "        minimal \"condition_occurrence\" table (same schema than raw data df)\n",
      "    :param list_case: list of tuples,\n",
      "        list of (df_visit-pandas df-, df_med-pandas df-, name-str-) to display\n",
      "    :param t_end_of_study: datetime.date,\n",
      "        date after which no information can be trusted.\n",
      "    :return: None\n",
      "    \n"
     ]
    }
   ],
   "metadata": {}
  },
  {
   "cell_type": "markdown",
   "source": [
    "## 3.1 Without deduplicating the person dataset\n",
    "\n",
    "Plot the  primary Kaplan-Meier estimates for the whole `df_person` DataFrame"
   ],
   "metadata": {}
  },
  {
   "cell_type": "code",
   "execution_count": 20,
   "source": [
    "#TODO"
   ],
   "outputs": [
    {
     "output_type": "display_data",
     "data": {
      "text/plain": [
       "<Figure size 756x396 with 4 Axes>"
      ],
      "image/png": "[encoded data removed]"
     },
     "metadata": {
      "needs_background": "light"
     }
    }
   ],
   "metadata": {}
  },
  {
   "cell_type": "markdown",
   "source": [
    "What can be concluded on the effect of each drugs?"
   ],
   "metadata": {}
  },
  {
   "cell_type": "markdown",
   "source": [
    "## 3.2 Using the determinist deduplication\n",
    "\n",
    "Plot the  primary Kaplan-Meier estimates for the whole `df_person_dedup_det` dataFrame"
   ],
   "metadata": {}
  },
  {
   "cell_type": "code",
   "execution_count": 21,
   "source": [
    "#TODO"
   ],
   "outputs": [
    {
     "output_type": "display_data",
     "data": {
      "text/plain": [
       "<Figure size 756x396 with 4 Axes>"
      ],
      "image/png": "[encoded data removed]"
     },
     "metadata": {
      "needs_background": "light"
     }
    }
   ],
   "metadata": {}
  },
  {
   "cell_type": "markdown",
   "source": [
    "What can be concluded on the effect of each drugs?"
   ],
   "metadata": {}
  },
  {
   "cell_type": "markdown",
   "source": [
    "## 3.2 Using the probabilistic deduplication\n",
    "\n",
    "Plot the  primary Kaplan-Meier estimates for the whole `df_person_dedup_proba_90` dataFrame"
   ],
   "metadata": {}
  },
  {
   "cell_type": "code",
   "execution_count": 22,
   "source": [
    "#TODO"
   ],
   "outputs": [
    {
     "output_type": "display_data",
     "data": {
      "text/plain": [
       "<Figure size 756x396 with 4 Axes>"
      ],
      "image/png": "[encoded data removed]"
     },
     "metadata": {
      "needs_background": "light"
     }
    }
   ],
   "metadata": {}
  },
  {
   "cell_type": "markdown",
   "source": [
    "What can be concluded on the effect of each drugs?"
   ],
   "metadata": {}
  },
  {
   "cell_type": "markdown",
   "source": [
    "Plot the  primary Kaplan-Meier estimates for the whole `df_person_dedup_proba_20` dataFrame"
   ],
   "metadata": {}
  },
  {
   "cell_type": "code",
   "execution_count": 24,
   "source": [
    "#TODO"
   ],
   "outputs": [
    {
     "output_type": "display_data",
     "data": {
      "text/plain": [
       "<Figure size 756x396 with 4 Axes>"
      ],
      "image/png": "[encoded data removed]"
     },
     "metadata": {
      "needs_background": "light"
     }
    }
   ],
   "metadata": {}
  },
  {
   "cell_type": "markdown",
   "source": [
    "The survival curves obtained with the low value threshold diverge strongly from the high value threshold or from the survival curves computed using the deterministic algorithm. Our confidence in the low value threshold is therefore low, but we should keep investigating this issue, for instance realizing a validation of the probabilistic linkage by a chart review campaign.\n",
    "\n",
    "In this exercise, we have shown some challenges related to the linkage of records in a clinical data warehouse. Various strategies may be adopted, and this methodological choice once more impacts the final results. "
   ],
   "metadata": {}
  },
  {
   "cell_type": "markdown",
   "source": [
    "# V. Takeaways\n",
    "\n",
    "- Clinical data warehouses contain **data collected in various clinical softwares** that may not always share **common identifiers**.\n",
    "- It appears necessary to **link data coming from different softwares** prior to they statistical analysis (linkage to a common identity, to a visit occurrence, etc.). Linkage may rely on common identifiers or on more involved linkage algorithms.\n",
    "- Linkage algorithms are commonly divided in **deterministic linkage** algorithms and on **probabilistic linkage** algorithms. Whereas deterministic algorithms rely on simple rules to match identifiers, probabilistic algorithms compute a similarity metric between pairs of records.\n",
    "- Methodological choices related to data linkage may impact the result of the overall analysis"
   ],
   "metadata": {}
  },
  {
   "cell_type": "markdown",
   "source": [
    "# VI. References\n",
    "\n",
    "- Harron, Katie, Harvey Goldstein, et Chris Dibben. Methodological Developments in Data Linkage. Wiley Series in Probability and Statistics. Wiley, 2016.\n",
    "- Harron, Katie, Angie Wade, Ruth Gilbert, Berit Muller-Pebody, et Harvey Goldstein. « Evaluating Bias Due to Data Linkage Error in Electronic Healthcare Records ». BMC Medical Research Methodology 14, nᵒ 1 (décembre 2014): 36. https://doi.org/10.1186/1471-2288-14-36.\n",
    "- Gilbert, Ruth, Rosemary Lafferty, Gareth Hagger-Johnson, Katie Harron, Li-Chun Zhang, Peter Smith, Chris Dibben, et Harvey Goldstein. « GUILD: GUidance for Information about Linking Data Sets† ». Journal of Public Health 40, nᵒ 1 (1 mars 2018): 191‑98. https://doi.org/10.1093/pubmed/fdx037.\n",
    "- Vatsalan, Dinusha, Peter Christen, et Vassilios S. Verykios. « A Taxonomy of Privacy-Preserving Record Linkage Techniques ». Information Systems 38, nᵒ 6 (septembre 2013): 946‑69. https://doi.org/10.1016/j.is.2012.11.005."
   ],
   "metadata": {}
  }
 ],
 "metadata": {
  "interpreter": {
   "hash": "041846b9a7172a11e46020ee1bdb9e5c7a21456f32280d79a4a62f34d8706852"
  },
  "kernelspec": {
   "name": "python3",
   "display_name": "Python 3.7.11 64-bit ('eds-tuto': conda)"
  },
  "language_info": {
   "codemirror_mode": {
    "name": "ipython",
    "version": 3
   },
   "file_extension": ".py",
   "mimetype": "text/x-python",
   "name": "python",
   "nbconvert_exporter": "python",
   "pygments_lexer": "ipython3",
   "version": "3.7.11"
  }
 },
 "nbformat": 4,
 "nbformat_minor": 4
}